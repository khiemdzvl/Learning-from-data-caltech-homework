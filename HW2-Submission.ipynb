{
 "cells": [
  {
   "cell_type": "markdown",
   "metadata": {},
   "source": [
    "# Bài tập 2\n",
    "\n",
    "Nguyễn Trọng Khiêm - 1712529"
   ]
  },
  {
   "cell_type": "markdown",
   "metadata": {},
   "source": [
    "## Câu 1 (1 điểm)"
   ]
  },
  {
   "cell_type": "code",
   "execution_count": 5,
   "metadata": {},
   "outputs": [
    {
     "name": "stdout",
     "output_type": "stream",
     "text": [
      "0.49966900000000003 0.499058 0.037596\n"
     ]
    }
   ],
   "source": [
    "import numpy as np\n",
    "N = 10\n",
    "mu = 0.5\n",
    "n_repeats = 100000\n",
    "n_coins = 1000\n",
    "\n",
    "nus = np.random.binomial(N, mu, (n_repeats, n_coins)) / N\n",
    "\n",
    "v1 = nus[:, 0]\n",
    "vrand = nus[np.arange(nus.shape[0]), np.random.choice(np.arange(nus.shape[1]), size=nus.shape[0])]\n",
    "vmin = np.min(nus, 1)\n",
    "\n",
    "print(np.mean(v1), np.mean(vrand), np.mean(vmin))"
   ]
  },
  {
   "cell_type": "markdown",
   "metadata": {
    "deletable": false,
    "nbgrader": {
     "cell_type": "markdown",
     "checksum": "2e83d862b3c5fd4fb57d72c50e8115f8",
     "grade": true,
     "grade_id": "c1",
     "locked": false,
     "points": 1,
     "schema_version": 3,
     "solution": true,
     "task": false
    }
   },
   "source": [
    "Vậy em chọn đáp án [b] 0.01"
   ]
  },
  {
   "cell_type": "markdown",
   "metadata": {},
   "source": [
    "## Câu 2 (1 điểm)"
   ]
  },
  {
   "cell_type": "markdown",
   "metadata": {
    "deletable": false,
    "nbgrader": {
     "cell_type": "markdown",
     "checksum": "47d4e2bb3e4812ef7b37e032a898cfec",
     "grade": true,
     "grade_id": "c2",
     "locked": false,
     "points": 1,
     "schema_version": 3,
     "solution": true,
     "task": false
    }
   },
   "source": [
    "Theo như tính ở trên, ta thấy mean(v1) và mean(vrand) gần với mu=0.5.  \n",
    "Do đó em chọn đáp án [d] c1 and crand."
   ]
  },
  {
   "cell_type": "markdown",
   "metadata": {},
   "source": [
    "## Câu 3 (1 điểm)"
   ]
  },
  {
   "cell_type": "markdown",
   "metadata": {},
   "source": [
    "Xác suất h xấp xỉ y là P(x)* P(y|x), bằng (1-muy)* lamda  \n",
    "==> Xác suất h đồng ý với f tại x và y!=f(x) là (1-muy)* (1-lamda)  \n",
    "Xác suất h không đồng ý với f tại x nhưng tồn tại y=f(x) là muy* lamda  \n",
    "Do đó xác suất lỗi mà h tạo ra khi xấp xỉ y là:  \n",
    "(1-muy)* (1-lamda) + muy* lamda"
   ]
  },
  {
   "cell_type": "markdown",
   "metadata": {
    "deletable": false,
    "nbgrader": {
     "cell_type": "markdown",
     "checksum": "0997a909d9ab1f250c2bfd0645fee970",
     "grade": true,
     "grade_id": "c3",
     "locked": false,
     "points": 1,
     "schema_version": 3,
     "solution": true,
     "task": false
    }
   },
   "source": [
    "Vậy em chọn đáp án [e] (1 − λ) ∗ (1 − µ) + λ ∗ µ "
   ]
  },
  {
   "cell_type": "markdown",
   "metadata": {},
   "source": [
    "## Câu 4 (1 điểm)"
   ]
  },
  {
   "cell_type": "markdown",
   "metadata": {
    "deletable": false,
    "nbgrader": {
     "cell_type": "markdown",
     "checksum": "efabab5c4035a6864ac8cb3e0061c6f0",
     "grade": true,
     "grade_id": "c4",
     "locked": false,
     "points": 1,
     "schema_version": 3,
     "solution": true,
     "task": false
    }
   },
   "source": [
    "Với λ = 1, khả năng y=f(x) và y!=f(x) là như nhau, nên không phụ thuộc vào m.  \n",
    "Nếu µ = 1 và có 100% cơ hội h không track f, vẫn có 50% khả năng kết thúc với đúng y.  \n",
    "Nếu µ = 0 và có 100% cơ hội h track f, vẫn có 50% khả năng kết thúc với sai y.  \n",
    "  \n",
    "Vậy em chọn đáp án [b] 0.5"
   ]
  },
  {
   "cell_type": "markdown",
   "metadata": {},
   "source": [
    "## Câu 5 (1 điểm)"
   ]
  },
  {
   "cell_type": "code",
   "execution_count": 6,
   "metadata": {},
   "outputs": [
    {
     "name": "stdout",
     "output_type": "stream",
     "text": [
      "avg_E_in = 0.039440\n",
      "avg_E_out = 0.048060\n"
     ]
    }
   ],
   "source": [
    "import random\n",
    "import numpy as np\n",
    "\n",
    "def generate_target_w():\n",
    "    \"\"\"\n",
    "    Generates target_w (the vector of parameters of f) \n",
    "    from two random, uniformly distributed points in [-1, 1] x [-1, 1].\n",
    "    \n",
    "    Returns\n",
    "    -------\n",
    "    target_w : numpy array, shape (3, 1) \n",
    "        The vector of parameters of f.\n",
    "    \"\"\"\n",
    "    # Generate two points from a uniform distribution over [-1, 1]x[-1, 1]\n",
    "    p1 = np.random.uniform(-1, 1, 2)\n",
    "    p2 = np.random.uniform(-1, 1, 2)\n",
    "    # Compute the target W from these two points\n",
    "    target_w = np.array([p1[1]*p2[0] - p1[0]*p2[1], p2[1] - p1[1], p1[0] - p2[0]]).reshape((-1, 1))\n",
    "    \n",
    "    return target_w\n",
    "def generate_data(N, target_w):\n",
    "    \"\"\"\n",
    "    Generates a data set by generating random inputs and then using target_w to generate the \n",
    "    corresponding outputs.\n",
    "    \n",
    "    Parameters\n",
    "    ----------\n",
    "    N : int\n",
    "        The number of examples.\n",
    "    target_w : numpy array, shape (3, 1) \n",
    "        The vector of parameters of f.\n",
    "    \n",
    "    Returns\n",
    "    -------\n",
    "    X : numpy array, shape (N, 3)\n",
    "        The matrix of input vectors (each row corresponds to an input vector); the first column of \n",
    "        this matrix is all ones.\n",
    "    Y : numpy array, shape (N, 1)\n",
    "        The vector of outputs.        \n",
    "    \"\"\"\n",
    "    bad_data = True # `bad_data = True` means: data contain points on the target line \n",
    "                    # (this rarely happens, but just to be careful)\n",
    "                    # -> y's of these points = 0 (with np.sign); \n",
    "                    #    we don't want this (y's of data must be -1 or 1)\n",
    "                    # -> re-generate data until `bad_data = False`\n",
    "    \n",
    "    while bad_data == True:\n",
    "        X = np.random.uniform(-1, 1, (N, 2))\n",
    "        X = np.hstack((np.ones((N, 1)), X)) # Add 'ones' column\n",
    "        Y = np.sign(np.dot(X, target_w))\n",
    "        if (0 not in Y): # Good data\n",
    "            bad_data = False\n",
    "    \n",
    "    return X, Y\n",
    "\n",
    "\n",
    "\n",
    "def train_LR(X, ys):\n",
    "    X_dagger = np.dot(np.linalg.pinv(np.dot(X.T, X)), X.T)\n",
    "    w = np.dot(X_dagger, ys)\n",
    "    return w\n",
    "\n",
    "\n",
    "\n",
    "def main(N_in, N_out):\n",
    "    num_runs = 1000\n",
    "    avg_E_in = 0.0\n",
    "    avg_E_out = 0.0\n",
    "    for i in range(num_runs):\n",
    "        # Generate target_w\n",
    "        target_w = generate_target_w()\n",
    "\n",
    "        # Generate training set\n",
    "        X, Y = generate_data(N_in, target_w)\n",
    "\n",
    "        # Generate test set\n",
    "        X_test, Y_test = generate_data(N_out, target_w)\n",
    "\n",
    "        w = train_LR(X, Y)\n",
    "\n",
    "        predictions_in = np.dot(X, w)\n",
    "\n",
    "        E_in = np.mean(np.sign(predictions_in) != Y)\n",
    "        avg_E_in += (E_in * 1.0 / num_runs)\n",
    "        \n",
    "        \n",
    "        target_w_out = generate_target_w()\n",
    "        \n",
    "        \n",
    "        predictions_out = np.dot(X_test, w)\n",
    "        E_out = np.mean(np.sign(predictions_out) != Y_test)\n",
    "        avg_E_out += (E_out * 1.0 / num_runs)\n",
    "\n",
    "    print('avg_E_in = %f' % (avg_E_in))\n",
    "    print('avg_E_out = %f' % (avg_E_out))\n",
    "    \n",
    "main(100, 1000)"
   ]
  },
  {
   "cell_type": "markdown",
   "metadata": {
    "deletable": false,
    "nbgrader": {
     "cell_type": "markdown",
     "checksum": "0b484b8390bec96142e8a1213ee8cd2c",
     "grade": true,
     "grade_id": "c5",
     "locked": false,
     "points": 1,
     "schema_version": 3,
     "solution": true,
     "task": false
    }
   },
   "source": [
    "Kết quả gần với 0.01 nhất.  \n",
    "Vậy em chọn đáp án [c] 0.01"
   ]
  },
  {
   "cell_type": "markdown",
   "metadata": {},
   "source": [
    "## Câu 6 (1 điểm)"
   ]
  },
  {
   "cell_type": "markdown",
   "metadata": {
    "deletable": false,
    "nbgrader": {
     "cell_type": "markdown",
     "checksum": "26f542221236fb24d0ddbee584eed7d0",
     "grade": true,
     "grade_id": "c6",
     "locked": false,
     "points": 1,
     "schema_version": 3,
     "solution": true,
     "task": false
    }
   },
   "source": [
    "Kết quả gần với 0.01 nhất.  \n",
    "Vậy em chọn đáp án [c] 0.01"
   ]
  },
  {
   "cell_type": "markdown",
   "metadata": {},
   "source": [
    "## Câu 7 (1 điểm)"
   ]
  },
  {
   "cell_type": "code",
   "execution_count": 7,
   "metadata": {},
   "outputs": [],
   "source": [
    "def train_PLA(X, ys):\n",
    "    w = train_LR(X, ys)\n",
    "    n_iterations = 0\n",
    "    while True:\n",
    "        predictions = np.sign(np.dot(X, w))\n",
    "        \n",
    "        errs = predictions!=ys\n",
    "        #print(errs.shape,errs)\n",
    "        mean_err = np.mean(errs)\n",
    "        if mean_err!=0:\n",
    "            \n",
    "            rand_err_idx = np.random.choice(np.flatnonzero(errs),1)\n",
    "            w = w + X[rand_err_idx].transpose()*ys[rand_err_idx]\n",
    "            \n",
    "            n_iterations+=1\n",
    "        else:\n",
    "            break\n",
    "    return w, n_iterations\n",
    "def cau7(N):\n",
    "    num_runs = 1000\n",
    "    avg_n_iters = 0.0\n",
    "    for r in range(num_runs):\n",
    "        # Generate target_w\n",
    "        target_w = generate_target_w()\n",
    "        \n",
    "        # Generate training set\n",
    "        X, Y = generate_data(N, target_w)\n",
    "        \n",
    "        \n",
    "        w, n_iters = train_PLA(X, Y)\n",
    "        \n",
    "        avg_n_iters += (n_iters * 1.0 / num_runs)\n",
    "    print('avg_num_iterations = %f' % (avg_n_iters))\n",
    "\n"
   ]
  },
  {
   "cell_type": "code",
   "execution_count": 8,
   "metadata": {},
   "outputs": [
    {
     "name": "stdout",
     "output_type": "stream",
     "text": [
      "avg_num_iterations = 3.920000\n"
     ]
    }
   ],
   "source": [
    "cau7(10)"
   ]
  },
  {
   "cell_type": "markdown",
   "metadata": {
    "deletable": false,
    "nbgrader": {
     "cell_type": "markdown",
     "checksum": "322a244b0fae3a20ec568a5099aaaec1",
     "grade": true,
     "grade_id": "c7",
     "locked": false,
     "points": 1,
     "schema_version": 3,
     "solution": true,
     "task": false
    }
   },
   "source": [
    "Kết quả gần với 1 nhất.  \n",
    "Vậy em chọn đáp án [a] 1"
   ]
  },
  {
   "cell_type": "markdown",
   "metadata": {},
   "source": [
    "## Câu 8 (1 điểm)"
   ]
  },
  {
   "cell_type": "code",
   "execution_count": 8,
   "metadata": {},
   "outputs": [
    {
     "name": "stdout",
     "output_type": "stream",
     "text": [
      "[[ 1  4]\n",
      " [ 9 16]]\n"
     ]
    },
    {
     "data": {
      "text/plain": [
       "array([[14],\n",
       "       [86]])"
      ]
     },
     "execution_count": 8,
     "metadata": {},
     "output_type": "execute_result"
    }
   ],
   "source": [
    "import numpy as np\n",
    "a=np.array([[1,2],[3,4]])\n",
    "print(a**2)\n",
    "b=np.array([[6],[2]])\n",
    "np.dot(a**2,b)"
   ]
  },
  {
   "cell_type": "code",
   "execution_count": null,
   "metadata": {},
   "outputs": [],
   "source": [
    "def generate_data(N, target_w):\n",
    "    bad_data = True # `bad_data = True` means: data contain points on the target line \n",
    "                    # (this rarely happens, but just to be careful)\n",
    "                    # -> y's of these points = 0 (with np.sign); \n",
    "                    #    we don't want this (y's of data must be -1 or 1)\n",
    "                    # -> re-generate data until `bad_data = False`\n",
    "    \n",
    "    while bad_data == True:\n",
    "        X = np.random.uniform(-1, 1, (N, 2))\n",
    "        X = np.hstack((np.ones((N, 1)), X)) # Add 'ones' column\n",
    "        Y = np.sign(np.dot(X**2, target_w))\n",
    "        if (0 not in Y): # Good data\n",
    "            bad_data = False\n",
    "    \n",
    "    return X, Y\n",
    "\n",
    "def transform(X):\n",
    "    \n",
    "def main(N):\n",
    "    num_runs = 1000\n",
    "    avg_E_in = 0.0\n",
    "    for i in range(num_runs):\n",
    "        # Generate target_w\n",
    "        target_w = np.array([[1.0],[1.0],[-0.6]])\n",
    "\n",
    "        # Generate training set\n",
    "        X, Y = generate_data(N, target_w)\n",
    "\n",
    "        idx = np.random.choice(np.arange(N), size=int(0.1*N), replace=False)\n",
    "        \n",
    "        for x in idx:\n",
    "            Y[x]=-Y[x]\n",
    "        "
   ]
  },
  {
   "cell_type": "markdown",
   "metadata": {
    "deletable": false,
    "nbgrader": {
     "cell_type": "markdown",
     "checksum": "d81773f072cd15e4a27b6cd240a5d990",
     "grade": true,
     "grade_id": "c8",
     "locked": false,
     "points": 1,
     "schema_version": 3,
     "solution": true,
     "task": false
    }
   },
   "source": [
    "YOUR ANSWER HERE"
   ]
  },
  {
   "cell_type": "markdown",
   "metadata": {},
   "source": [
    "## Câu 9 (1 điểm)"
   ]
  },
  {
   "cell_type": "markdown",
   "metadata": {
    "deletable": false,
    "nbgrader": {
     "cell_type": "markdown",
     "checksum": "e814a2db0b8a53e4fddfee4bcbf405fc",
     "grade": true,
     "grade_id": "c9",
     "locked": false,
     "points": 1,
     "schema_version": 3,
     "solution": true,
     "task": false
    }
   },
   "source": [
    "YOUR ANSWER HERE"
   ]
  },
  {
   "cell_type": "markdown",
   "metadata": {},
   "source": [
    "## Câu 10 (1 điểm)"
   ]
  },
  {
   "cell_type": "markdown",
   "metadata": {
    "deletable": false,
    "nbgrader": {
     "cell_type": "markdown",
     "checksum": "41cbf5c6d2b94eeae0a712be2181fef6",
     "grade": true,
     "grade_id": "c10",
     "locked": false,
     "points": 1,
     "schema_version": 3,
     "solution": true,
     "task": false
    }
   },
   "source": [
    "YOUR ANSWER HERE"
   ]
  }
 ],
 "metadata": {
  "kernelspec": {
   "display_name": "Python 3",
   "language": "python",
   "name": "python3"
  },
  "language_info": {
   "codemirror_mode": {
    "name": "ipython",
    "version": 3
   },
   "file_extension": ".py",
   "mimetype": "text/x-python",
   "name": "python",
   "nbconvert_exporter": "python",
   "pygments_lexer": "ipython3",
   "version": "3.6.9"
  },
  "toc": {
   "base_numbering": 1,
   "nav_menu": {},
   "number_sections": true,
   "sideBar": true,
   "skip_h1_title": false,
   "title_cell": "Table of Contents",
   "title_sidebar": "Contents",
   "toc_cell": false,
   "toc_position": {},
   "toc_section_display": true,
   "toc_window_display": false
  },
  "varInspector": {
   "cols": {
    "lenName": 16,
    "lenType": 16,
    "lenVar": 40
   },
   "kernels_config": {
    "python": {
     "delete_cmd_postfix": "",
     "delete_cmd_prefix": "del ",
     "library": "var_list.py",
     "varRefreshCmd": "print(var_dic_list())"
    },
    "r": {
     "delete_cmd_postfix": ") ",
     "delete_cmd_prefix": "rm(",
     "library": "var_list.r",
     "varRefreshCmd": "cat(var_dic_list()) "
    }
   },
   "types_to_exclude": [
    "module",
    "function",
    "builtin_function_or_method",
    "instance",
    "_Feature"
   ],
   "window_display": false
  }
 },
 "nbformat": 4,
 "nbformat_minor": 4
}
