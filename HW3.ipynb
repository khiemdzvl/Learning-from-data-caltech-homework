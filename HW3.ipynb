{
 "cells": [
  {
   "cell_type": "markdown",
   "metadata": {},
   "source": [
    "# Bài tập 3\n",
    "\n",
    "---\n",
    "Mục tiêu chính ở đây là <font color=green>học, học một cách chân thật</font>; nếu bạn được 5 điểm nhưng bạn làm bài một cách chân thật thì vẫn tốt hơn nhiều so với 10 điểm mà không chân thật. Bạn có thể thảo luận với các bạn khác (nên tận dụng moodle), nhưng <font color=green>bài làm và code phải là của chính bạn, dựa trên sự hiểu của chính bạn</font>. <font color=red>Nếu vi phạm thì bạn sẽ bị 0 điểm cho toàn bộ môn học</font>.\n",
    "\n",
    "Một số lời khuyên khác:\n",
    "- Nên bắt đầu làm sớm, đừng đợi đến gần deadline.\n",
    "- Nên in các file bài tập của Caltech ra (trong môn học, mình sẽ làm 6 bài tập đầu tiên).\n",
    "- Làm từ từ, cẩn thận. Chậm là nhanh, nhanh là chậm.\n",
    "- Tránh xa các nguồn gây nhiễu; ví dụ, facebook ;-)."
   ]
  },
  {
   "cell_type": "markdown",
   "metadata": {},
   "source": [
    "---"
   ]
  },
  {
   "cell_type": "markdown",
   "metadata": {},
   "source": [
    "## Đề bài "
   ]
  },
  {
   "cell_type": "markdown",
   "metadata": {},
   "source": [
    "Bạn download file bài tập \"Homework 3\" (gồm 10 câu hỏi trắc nghiệm) và file đáp án \"Solution key 3\" :-) [ở đây](http://work.caltech.edu/homeworks.html). Với mỗi câu, bạn cần giải thích <font color=blue>tại sao bạn lại chọn đáp án này</font> (không được dùng phương pháp loại trừ). Với những câu mà phải code, bạn cố gắng viết code rõ ràng, dễ đọc (đặt tên biến gợi nhớ, comment những chỗ cần comment). File đáp án ở đây đóng vai trò \"correct output\", giúp bạn biết được là mình đã làm đúng hay chưa, để \"điều chỉnh lại bộ trọng số\". <font color=blue>Bạn nên tự mình làm trước rồi sau đó mới check file đáp án; như vậy sẽ tốt hơn cho việc học của bạn</font>.\n",
    "\n",
    "Bạn sẽ làm bài trên file notebook \"HW3-Submission.ipynb\" mà mình đã cung cấp sẵn. Đầu tiên, bạn điền MSSV và họ tên vào đầu file. Với mỗi câu, mình đã để sẵn một markdown cell mà có ghi là \"YOUR ANSWER HERE\" để bạn làm (khi làm thì bạn có thể xóa dòng \"YOUR ANSWER HERE\" đi). Với mỗi câu, đầu tiên bạn sẽ trình bày các giải thích, và cuối cùng thì chốt lại là bạn chọn đáp án nào (ví dụ, bạn có thể ghi là \"Do đó, em chọn đáp án [d] abcxyz\"). Với mỗi câu, nếu cần thì bạn có thể chèn thêm các cell (code/markdown) ở <font color=blue>ngay trên</font> (không chèn dưới) cell \"YOUR ANSWER HERE\". Ví dụ:\n",
    "\n",
    "Câu 1 (1 điểm)\n",
    "- Cell bạn tự chèn\n",
    "- ...\n",
    "- Cell bạn tự chèn\n",
    "- Cell \"YOUR ANSWER HERE\" (ở cell này ít nhất là có dòng chốt về đáp án bạn chọn)\n",
    "\n",
    "Mình qui định như trên là vì khi chấm bài mình sẽ dùng một chương trình để hỗ trợ quá trình duyệt qua các bài, để có thể chấm nhanh hơn. Mặc dù bạn thấy cell \"YOUR ANSWER HERE\" không có gì đặc biệt, nhưng thật ra là cell này có những thông tin ẩn bên dưới để chương trình hỗ trợ chấm của mình có thể sử dụng. Do đó, <font color=red>bạn lưu ý tuân thủ đúng qui định của mình</font>.\n",
    "\n",
    "**Nộp bài:**\n",
    "\n",
    "Khi chấm bài, đầu tiên mình sẽ chọn \"Kernel\" - \"Restart & Run All\" để restart và chạy tất cả các cell trong notebook của bạn; do đó, trước khi nộp bài, bạn nên chạy thử \"Kernel\" - \"Restart & Run All\" để đảm bảo mọi chuyện diễn ra đúng như mong đợi.\n",
    "\n",
    "Nếu không có vấn đề gì thì bạn tạo thư mục nộp bài theo cấu trúc sau:\n",
    "- Thư mục MSSV (ví dụ, nếu MSSV của bạn là 1234567 thì bạn đặt tên thư mục là 1234567):\n",
    "    - File \"HW3-Submission.ipynb\"\n",
    "\n",
    "Sau đó, bạn nén thư mục MSSV lại và nộp ở link trên moodle. Đuôi của file nén phải là .zip (chứ không được .rar hay gì khác).\n",
    "\n",
    "Một lần nữa, <font color=red>bạn lưu ý tuân thủ chính xác qui định nộp bài này để chương trình hỗ trợ chấm của mình có thể chạy được</font>."
   ]
  },
  {
   "cell_type": "markdown",
   "metadata": {},
   "source": [
    "---"
   ]
  },
  {
   "cell_type": "markdown",
   "metadata": {},
   "source": [
    "## Hướng dẫn "
   ]
  },
  {
   "cell_type": "markdown",
   "metadata": {},
   "source": [
    "Bạn nên tự làm trước, rồi sau đó mới xem hướng dẫn; mình nghĩ như vậy là tốt nhất cho việc học của bạn. Một câu thì có thể có nhiều cách giải, bạn không nhất thiết là phải làm theo cách mà mình hướng dẫn.\n",
    "\n",
    "Không phải tất cả các câu đều sẽ có hướng dẫn (phần hướng dẫn chủ yếu tập trung vào các câu liên quan đến lập trình). Nếu vẫn có thắc mắc gì khác thì bạn có thể post lên moodle."
   ]
  },
  {
   "cell_type": "markdown",
   "metadata": {
    "colab_type": "text",
    "id": "jkPqn8NaGywZ"
   },
   "source": [
    "### Câu 1-3: Generalization Error\n",
    "\n",
    "Generalization Error ám chỉ $|E_{in}(g) - E_{out}(g)|$.\n",
    "\n",
    "Dựa vào đề bài mô tả, ta cần giải bất phương trình sau (theo $N$):\n",
    "\n",
    "$2Me^{-2\\times0.05^2N} \\leq 0.03$\n",
    "\n",
    "$\\Leftrightarrow N \\geq \\dots$\n",
    "\n",
    "Ta có thể định nghĩa một hàm tính chặn dưới của $N$ theo $M$, rồi gọi hàm này nhiều lần với $M$ = 1, 10, 1000. Bạn có thấy khi độ phức tạp của tập hypothesis (được thể hiện bằng $M$) tăng thì sẽ cần nhiều dữ liệu hơn không?\n"
   ]
  },
  {
   "cell_type": "markdown",
   "metadata": {
    "colab_type": "text",
    "id": "bJGqgfO2hH5n"
   },
   "source": [
    "---\n",
    "<font color=blue>Trước khi làm các câu còn lại, bạn nên xem lại slides/video để đảm bảo rằng bạn đã hiểu các khái niệm \"growth function\", \"break point\". </font>\n",
    "\n",
    "---"
   ]
  },
  {
   "cell_type": "markdown",
   "metadata": {
    "colab_type": "text",
    "id": "9cVt_qZ0Gywa"
   },
   "source": [
    "### Câu 4: Break Point\n",
    "\n",
    "Bạn có thể chờ tới sau buổi học 08 (The VC Dimension) và sử dụng kết quả về $d_{VC}$ của Perceptron được chứng minh trong buổi học này."
   ]
  },
  {
   "cell_type": "markdown",
   "metadata": {
    "colab_type": "text",
    "id": "EswJI0uBGywc"
   },
   "source": [
    "### Câu 5: Growth Function\n",
    "\n",
    "Bạn lập luận dựa vào các kết quả đã học trên lớp:\n",
    "- Nếu $H$ không có break point thì growth function bằng $2^N$.\n",
    "- Nếu $H$ có break point $k$ thì growth function bị chặn trên bởi một đa thức theo $N$ bậc $k-1$  cố định. \n"
   ]
  },
  {
   "cell_type": "markdown",
   "metadata": {
    "colab_type": "text",
    "id": "ysn0Cc3FGywd"
   },
   "source": [
    "### Câu 6-8: Fun with Intervals\n",
    "\n",
    "**Câu 6:** \n",
    "\n",
    "Xét tập hypothesis 1-interval (positive interval) đã được học trên lớp. Tập hypothesis này sẽ không thể biểu diễn được (do đó bị break) trường hợp 2 intervals, tức 2 vùng + (ở giữa 2 vùng + là 1 vùng -). Số điểm  𝑥  nhỏ nhất để thể hiện được trường hợp này là 3: + - +. Do đó, break point (nhỏ nhất) của 1-interval là 3. \n",
    "\n",
    "Quay trở lại với tập hypothesis 2-intervals của bài này. Tập này không thể biểu diễn được trường hợp nào? Và số điểm  𝑥  nhỏ nhất để thể hiện trường hợp này là bao nhiêu?\n",
    "\n",
    "**Câu 7:** \n",
    "\n",
    "Tương tự như positive ray hay positive interval, cách đặt $N$ điểm trong không gian input một chiều để tạo ra được nhiều dichotomy nhất là đặt sao cho không có điểm nào trùng nhau. $N$ điểm sẽ chia không gian input một chiều ra thành $N + 1$ vùng.\n",
    "\n",
    "Tập hypothesis 2-intervals có thể tạo ra bao nhiêu dichotomy trên $N$ điểm này? Gợi ý: tập 2-intervals bao tập 1-interval (positive interval) đã học.\n",
    "\n",
    "**Câu 8:** Tương tự câu 6."
   ]
  },
  {
   "cell_type": "markdown",
   "metadata": {
    "colab_type": "text",
    "id": "diSdXxbUGywd"
   },
   "source": [
    "### Câu 9: The Triangle\n",
    "\n",
    "Cách đặt các điểm để tạo ra nhiều dichotomy nhất là đặt trên đường tròn (giống như convex set đã học). Bạn có thể lần lượt thử với các $N$ tăng dần và xem thử đến khi nào thì tập hypothesis triangle bị break (có ít nhất một dichotomy không thể tạo ra được). Với một giá trị $N$ cụ thể, trường hợp khó nhất có lẽ là các điểm + không liên tục nhau trên đường tròn, nếu tập hypothesis triangle vẫn có thể tạo ra được dichotomy này thì sẽ tạo ra được các dichotomy còn lại. Câu này sẽ hơi tốn thời gian vẽ hình và thử.\n"
   ]
  },
  {
   "cell_type": "markdown",
   "metadata": {
    "colab_type": "text",
    "id": "J_BUaPhoGywe"
   },
   "source": [
    "### Câu 10: Concentric Circles\n",
    "\n",
    "Mặc dù $\\textbf{x}$ trong bài này thuộc không gian 2 chiều, nhưng cái quyết định output (-1 hay 1) của $\\textbf{x}$ là một con số: khoảng cách từ $\\textbf{x}$ đến gốc tọa độ. Có giống positive interval không :-)"
   ]
  }
 ],
 "metadata": {
  "kernelspec": {
   "display_name": "Python 3",
   "language": "python",
   "name": "python3"
  },
  "language_info": {
   "codemirror_mode": {
    "name": "ipython",
    "version": 3
   },
   "file_extension": ".py",
   "mimetype": "text/x-python",
   "name": "python",
   "nbconvert_exporter": "python",
   "pygments_lexer": "ipython3",
   "version": "3.6.9"
  },
  "toc": {
   "base_numbering": 1,
   "nav_menu": {},
   "number_sections": false,
   "sideBar": true,
   "skip_h1_title": false,
   "title_cell": "Table of Contents",
   "title_sidebar": "Contents",
   "toc_cell": false,
   "toc_position": {},
   "toc_section_display": true,
   "toc_window_display": true
  }
 },
 "nbformat": 4,
 "nbformat_minor": 4
}
