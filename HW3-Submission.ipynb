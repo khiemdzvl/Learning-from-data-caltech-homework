{
 "cells": [
  {
   "cell_type": "markdown",
   "metadata": {},
   "source": [
    "# Bài tập 3\n",
    "\n",
    "Nguyễn Trọng Khiêm - 1712529"
   ]
  },
  {
   "cell_type": "markdown",
   "metadata": {},
   "source": [
    "## Câu 1 (1 điểm)"
   ]
  },
  {
   "cell_type": "code",
   "execution_count": 1,
   "metadata": {},
   "outputs": [
    {
     "name": "stdout",
     "output_type": "stream",
     "text": [
      "839.9410155759853\n"
     ]
    }
   ],
   "source": [
    "# Generalization Error\n",
    "import numpy as np\n",
    "\n",
    "def find_min_N(epsilon, M, prob):\n",
    "    return - np.log(prob/(2*M))/(2*epsilon**2)\n",
    "\n",
    "epsilon = 0.05\n",
    "prob = 0.03\n",
    "\n",
    "# Câu 1:\n",
    "M = 1\n",
    "print(find_min_N(epsilon, M, prob))"
   ]
  },
  {
   "cell_type": "markdown",
   "metadata": {
    "deletable": false,
    "nbgrader": {
     "cell_type": "markdown",
     "checksum": "2e83d862b3c5fd4fb57d72c50e8115f8",
     "grade": true,
     "grade_id": "c1",
     "locked": false,
     "points": 1,
     "schema_version": 3,
     "solution": true,
     "task": false
    }
   },
   "source": [
    "Vậy em chọn đáp án [b] 1000"
   ]
  },
  {
   "cell_type": "markdown",
   "metadata": {},
   "source": [
    "## Câu 2 (1 điểm)"
   ]
  },
  {
   "cell_type": "code",
   "execution_count": 2,
   "metadata": {},
   "outputs": [
    {
     "name": "stdout",
     "output_type": "stream",
     "text": [
      "1300.4580341747942\n"
     ]
    }
   ],
   "source": [
    "M = 10\n",
    "print(find_min_N(epsilon, M, prob))"
   ]
  },
  {
   "cell_type": "markdown",
   "metadata": {
    "deletable": false,
    "nbgrader": {
     "cell_type": "markdown",
     "checksum": "47d4e2bb3e4812ef7b37e032a898cfec",
     "grade": true,
     "grade_id": "c2",
     "locked": false,
     "points": 1,
     "schema_version": 3,
     "solution": true,
     "task": false
    }
   },
   "source": [
    "Vậy em chọn đáp án [c] 1500"
   ]
  },
  {
   "cell_type": "markdown",
   "metadata": {},
   "source": [
    "## Câu 3 (1 điểm)"
   ]
  },
  {
   "cell_type": "code",
   "execution_count": 3,
   "metadata": {},
   "outputs": [
    {
     "name": "stdout",
     "output_type": "stream",
     "text": [
      "1760.9750527736032\n"
     ]
    }
   ],
   "source": [
    "M = 100\n",
    "print(find_min_N(epsilon, M, prob))"
   ]
  },
  {
   "cell_type": "markdown",
   "metadata": {
    "deletable": false,
    "nbgrader": {
     "cell_type": "markdown",
     "checksum": "0997a909d9ab1f250c2bfd0645fee970",
     "grade": true,
     "grade_id": "c3",
     "locked": false,
     "points": 1,
     "schema_version": 3,
     "solution": true,
     "task": false
    }
   },
   "source": [
    "Vậy em chọn đáp án [d] 2000"
   ]
  },
  {
   "cell_type": "markdown",
   "metadata": {},
   "source": [
    "## Câu 4 (1 điểm)"
   ]
  },
  {
   "cell_type": "markdown",
   "metadata": {},
   "source": [
    "Trong trường hợp R^2, break point của mô hình Perceptron là 4. Một tập dichotomy mà mô hình 2D không thể phân tách là 4 điểm là 4 đỉnh của một hình vuông (hay tổng quát hơn là một đa giác lồi), với mỗi cặp đỉnh đối diện có label giống nhau.  \n",
    "Trong trường hợp đó, để có thể phân tách 2 cặp điểm này trong không gian 2D là không thể, nhưng lại có thể trong không gian 3D bằng cách dịch chuyển 2 điểm cùng label ra khỏi mặt phẳng đó (ví dụ như trong 2D đang là Oxy, 4 điểm lúc đầu đều thuộc Oxy) về cùng phía tăng hoặc giảm của z (trong không gian Oxyz). Như vậy, nếu có một điểm khác có cùng label với 2 điểm trên mà có ở khác phía với 2 điểm đó (so với Oxy) thì ta không thể phân tách được. Do vậy, break point tối thiểu của mô hình perceptron 3D là 5.  \n",
    "Thật vậy, giờ ta sẽ chứng minh điều đó. Ta xét 1 tập hợp gồm 5 điểm mà ta muốn phân chia thành 2 tập riêng biệt bằng mô hình Perceptron 3D. Bỏ qua trường hợp tầm thường là có 4 trong 5 điểm cùng thuộc một mặt phẳng.  \n",
    "Với 4 trong 5 điểm ban đầu, ta luôn có thể chọn 4 điểm tạo thành 1 đỉnh của 1 tứ diện, sao cho điểm còn lại nằm bên ngoài tứ diện này (1).  \n",
    "(Cụ thể, nếu ta chọn 4 điểm bất kì, điểm còn lại có thể nằm trong hoặc nằm ngoài tứ diện. Với trường hợp nó đã nằm trong tứ diện, ta lấy điểm đó với 3 trong 4 đỉnh của tứ diện để tạo thành 1 tứ diện mới, khi đó đỉnh không được chọn sẽ nằm ngoài tứ diện mới này. Do đó (1) đúng.)  \n",
    "Khi đó, nếu điểm nằm bên ngoài này có label trùng với 1 đỉnh của tứ diện, mà đỉnh này lại phân tách với điểm bên ngoài bởi mộ mặt phẳng tạo bởi 3 đỉnh còn lại của tứ diện, khi mà 3 đỉnh này lại có label trùng nhau và khác với label của 2 điểm kia. Khi đó ta không thể phân tách 5 điểm này bởi bất kỳ một mặt phẳng nào trong không gian 3 chiều.  \n",
    "Vậy break point tối thiểu của mô hình perceptron 3D là 5. "
   ]
  },
  {
   "cell_type": "markdown",
   "metadata": {
    "deletable": false,
    "nbgrader": {
     "cell_type": "markdown",
     "checksum": "efabab5c4035a6864ac8cb3e0061c6f0",
     "grade": true,
     "grade_id": "c4",
     "locked": false,
     "points": 1,
     "schema_version": 3,
     "solution": true,
     "task": false
    }
   },
   "source": [
    "Vậy em chọn đáp án [b] 5"
   ]
  },
  {
   "cell_type": "markdown",
   "metadata": {},
   "source": [
    "## Câu 5 (1 điểm)"
   ]
  },
  {
   "cell_type": "markdown",
   "metadata": {},
   "source": [
    "(i) $f_1(N) = 1 + N \\leq 2^N$ , với mọi N. Do đó $f_1(N)$ là một hàm tăng trưởng hợp lệ.  \n",
    "(ii) $f_2(N) = 1 + N + {N \\choose 2} = 1 + N/2 + N^2/2$. Với $N$ nhỏ: $f_2(1) = 2, f_(ii)(2)=4, f_2(3)=7$. Khi $N>3$, $f_2(N)$ sẽ không vượt quá $2^N$, vì $f_2(N)$ là một hàm bậc 2 (đa thức bậc 2 theo N). Do đó, $f_2(N)$ là một hàm tăng trưởng hợp lệ.  \n",
    "(iii) $f_{3}(N) = \\sum_{i = 1}^{\\lfloor\\sqrt{N}\\rfloor} {N \\choose i}\\geq \\sum_{i = 0}^{\\lfloor\\sqrt{N}\\rfloor} {\\lfloor\\sqrt{N}\\rfloor \\choose i} - 1 = 2^{\\lfloor\\sqrt{N}\\rfloor} - 1$  \n",
    "Mà $g(N) = 2^{\\lfloor\\sqrt{N}\\rfloor} - 1 < 2^N$ là một hàm phi đa thức theo N và nhỏ hơn $2^N$ với $N>1$.  \n",
    "Do đó $f_3(N)$ không phải một hàm tăng trưởng hợp lệ.  \n",
    "(iv) $f_{4}(N) = 2^{\\lfloor\\sqrt{N}\\rfloor} < 2^N$ với $N>1$ (vì $\\lfloor N/2 \\rfloor < N$ với $N\\geq 2$). Tuy nhiên, đây không phải hàm tăng trưởng hợp lệ, vì nó không phải đa thức theo $N$.  \n",
    "(v) Chắc chắn là hàm tăng trưởng hợp lệ, vì nó chính là $2^N$.  \n",
    "Vậy $i, ii, v$ là các hàm tăng trưởng hợp lệ."
   ]
  },
  {
   "cell_type": "markdown",
   "metadata": {
    "deletable": false,
    "nbgrader": {
     "cell_type": "markdown",
     "checksum": "0b484b8390bec96142e8a1213ee8cd2c",
     "grade": true,
     "grade_id": "c5",
     "locked": false,
     "points": 1,
     "schema_version": 3,
     "solution": true,
     "task": false
    }
   },
   "source": [
    "Vậy em chọn đáp án v [b] i, ii, v"
   ]
  },
  {
   "cell_type": "markdown",
   "metadata": {},
   "source": [
    "## Câu 6 (1 điểm)"
   ]
  },
  {
   "cell_type": "markdown",
   "metadata": {},
   "source": [
    "Xét tập $y = [1, -1, 1, -1, 1]$.  \n",
    "Ta không thể lập mô hình với 2 itervals, vì phải cần đến 3 itervals. Do đó, break point của 2-itervals là $k=5$."
   ]
  },
  {
   "cell_type": "markdown",
   "metadata": {
    "deletable": false,
    "nbgrader": {
     "cell_type": "markdown",
     "checksum": "26f542221236fb24d0ddbee584eed7d0",
     "grade": true,
     "grade_id": "c6",
     "locked": false,
     "points": 1,
     "schema_version": 3,
     "solution": true,
     "task": false
    }
   },
   "source": [
    "Vậy em chọn đáp án [c] 5"
   ]
  },
  {
   "cell_type": "markdown",
   "metadata": {},
   "source": [
    "## Câu 7 (1 điểm)"
   ]
  },
  {
   "cell_type": "markdown",
   "metadata": {},
   "source": [
    "Xét 2 trường hợp:  \n",
    "1. Khi các khoảng được phép trùng nhau, vấn đề được giảm xuống còn 1 khoảng và khi đó, ta biết rằng có ${N + 1 \\choose 2}$ mẫu có thể được tạo trên N điểm theo các khoảng đó.\n",
    "2. Khi các khoảng không chồng chéo có thể tạo thêm ${N+1 \\choose 4}$ mẫu.  \n",
    "Do đó hàm tăng trưởng sẽ là: ${N+1 \\choose 4} + {N + 1 \\choose 2} + 1$"
   ]
  },
  {
   "cell_type": "markdown",
   "metadata": {
    "deletable": false,
    "nbgrader": {
     "cell_type": "markdown",
     "checksum": "322a244b0fae3a20ec568a5099aaaec1",
     "grade": true,
     "grade_id": "c7",
     "locked": false,
     "points": 1,
     "schema_version": 3,
     "solution": true,
     "task": false
    }
   },
   "source": [
    "vậy em chọn đáp án [c] ${N+1 \\choose 4} + {N + 1 \\choose 2} + 1$"
   ]
  },
  {
   "cell_type": "markdown",
   "metadata": {},
   "source": [
    "## Câu 8 (1 điểm)"
   ]
  },
  {
   "cell_type": "markdown",
   "metadata": {},
   "source": [
    "Ta thấy rằng để xây dựng một mẫu mà các M-itervals không thể tạo ra, chúng ta cần $M + 1$ khoảng. Mỗi khoảng đòi hỏi hai điểm $[1,-1]$, sẽ có $2M + 2$ điểm. Tuy nhiên, khoảng cuối cùng chỉ yêu cầu một điểm +1. Do đó, bbreak point sẽ là $2M+1$."
   ]
  },
  {
   "cell_type": "markdown",
   "metadata": {
    "deletable": false,
    "nbgrader": {
     "cell_type": "markdown",
     "checksum": "d81773f072cd15e4a27b6cd240a5d990",
     "grade": true,
     "grade_id": "c8",
     "locked": false,
     "points": 1,
     "schema_version": 3,
     "solution": true,
     "task": false
    }
   },
   "source": [
    "Vậy em chọn đáp án [d] $2M+1$"
   ]
  },
  {
   "cell_type": "markdown",
   "metadata": {},
   "source": [
    "## Câu 9 (1 điểm)"
   ]
  },
  {
   "cell_type": "markdown",
   "metadata": {},
   "source": [
    "Sắp xếp các điểm trên vòng tròn đơn vị.  \n",
    "Với N = 7, chúng ta có thể chọn bất kỳ tổ hợp điểm nào.  \n",
    "Với N = 9, điều này trở nên bất khả thi vì chúng ta có 4 itervals trên vòng tròn trong cấu hình zigzag, nhưng một tam giác chỉ có thể chụp được 3 itervals.  \n",
    "Vậy N = 7 bị phá vỡ bởi H."
   ]
  },
  {
   "cell_type": "markdown",
   "metadata": {
    "deletable": false,
    "nbgrader": {
     "cell_type": "markdown",
     "checksum": "e814a2db0b8a53e4fddfee4bcbf405fc",
     "grade": true,
     "grade_id": "c9",
     "locked": false,
     "points": 1,
     "schema_version": 3,
     "solution": true,
     "task": false
    }
   },
   "source": [
    "Vậy em chọn đáp án [b] 3"
   ]
  },
  {
   "cell_type": "markdown",
   "metadata": {},
   "source": [
    "## Câu 10 (1 điểm)"
   ]
  },
  {
   "cell_type": "markdown",
   "metadata": {},
   "source": [
    "Các vòng tròn đồng tâm gần giống với các khoảng 1 (trong đó a và b đánh dấu ranh giới khoảng). Mặc dù có giá trị hai chiều, việc ta phải mở rộng các vòng tròn theo mọi hướng bằng chính xác cùng một lượng có nghĩa là số bậc tự do trong vấn đề về cơ bản là giống nhau. Do đó, số dichotomy ta có thể tạo ra được đưa ra bởi hàm ${N+1 \\choose 2} + 1$."
   ]
  },
  {
   "cell_type": "markdown",
   "metadata": {
    "deletable": false,
    "nbgrader": {
     "cell_type": "markdown",
     "checksum": "41cbf5c6d2b94eeae0a712be2181fef6",
     "grade": true,
     "grade_id": "c10",
     "locked": false,
     "points": 1,
     "schema_version": 3,
     "solution": true,
     "task": false
    }
   },
   "source": [
    "Vậy em chọn đáp án [b] ${N+1 \\choose 2} + 1$"
   ]
  }
 ],
 "metadata": {
  "kernelspec": {
   "display_name": "Python 3",
   "language": "python",
   "name": "python3"
  },
  "language_info": {
   "codemirror_mode": {
    "name": "ipython",
    "version": 3
   },
   "file_extension": ".py",
   "mimetype": "text/x-python",
   "name": "python",
   "nbconvert_exporter": "python",
   "pygments_lexer": "ipython3",
   "version": "3.6.9"
  },
  "toc": {
   "base_numbering": 1,
   "nav_menu": {},
   "number_sections": true,
   "sideBar": true,
   "skip_h1_title": false,
   "title_cell": "Table of Contents",
   "title_sidebar": "Contents",
   "toc_cell": false,
   "toc_position": {},
   "toc_section_display": true,
   "toc_window_display": false
  },
  "varInspector": {
   "cols": {
    "lenName": 16,
    "lenType": 16,
    "lenVar": 40
   },
   "kernels_config": {
    "python": {
     "delete_cmd_postfix": "",
     "delete_cmd_prefix": "del ",
     "library": "var_list.py",
     "varRefreshCmd": "print(var_dic_list())"
    },
    "r": {
     "delete_cmd_postfix": ") ",
     "delete_cmd_prefix": "rm(",
     "library": "var_list.r",
     "varRefreshCmd": "cat(var_dic_list()) "
    }
   },
   "types_to_exclude": [
    "module",
    "function",
    "builtin_function_or_method",
    "instance",
    "_Feature"
   ],
   "window_display": false
  }
 },
 "nbformat": 4,
 "nbformat_minor": 4
}
