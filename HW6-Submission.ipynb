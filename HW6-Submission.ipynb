{
 "cells": [
  {
   "cell_type": "markdown",
   "metadata": {},
   "source": [
    "# Bài tập 6\n",
    "\n",
    "Nguyễn Trọng Khiêm - 1712529"
   ]
  },
  {
   "cell_type": "markdown",
   "metadata": {},
   "source": [
    "## Câu 1 (1 điểm)"
   ]
  },
  {
   "cell_type": "markdown",
   "metadata": {},
   "source": [
    "Việc sử dụng một tập con $\\mathcal{H}' \\subset \\mathcal{H}$ sẽ làm tăng deterministic noise, vì $\\mathcal{H}'$ là con của $\\mathcal{H}$ nên $\\mathcal{H}'$ sẽ không đủ mạnh để xấp xỉ $f$ (hay ít nhất thì nó không đủ mạnh như $\\mathcal{H}$)."
   ]
  },
  {
   "cell_type": "markdown",
   "metadata": {
    "deletable": false,
    "nbgrader": {
     "cell_type": "markdown",
     "checksum": "2e83d862b3c5fd4fb57d72c50e8115f8",
     "grade": true,
     "grade_id": "c1",
     "locked": false,
     "points": 1,
     "schema_version": 3,
     "solution": true,
     "task": false
    }
   },
   "source": [
    "Vậy em chọn đáp án [b] In general, deterministic noise will increase."
   ]
  },
  {
   "cell_type": "markdown",
   "metadata": {},
   "source": [
    "## Câu 2 (1 điểm)"
   ]
  },
  {
   "cell_type": "code",
   "execution_count": 1,
   "metadata": {},
   "outputs": [
    {
     "name": "stdout",
     "output_type": "stream",
     "text": [
      "E_in = 0.02857142857142857\n",
      "E_out = 0.084\n"
     ]
    }
   ],
   "source": [
    "import numpy as np\n",
    "\n",
    "# Load data\n",
    "data_train = np.loadtxt(\"in.dta\")\n",
    "X_train, y_train = data_train[:,:2], data_train[:,2]\n",
    "\n",
    "data_test = np.loadtxt(\"out.dta\")\n",
    "X_test, y_test = data_test[:,:2], data_test[:,2]\n",
    "\n",
    "# Transform data\n",
    "def phi(X):\n",
    "    Z = np.array([np.ones(X.shape[0]), \n",
    "                  X[:,0], \n",
    "                  X[:,1],\n",
    "                  X[:,0]**2, \n",
    "                  X[:,1]**2, \n",
    "                  X[:,0] * X[:,1],\n",
    "                  np.abs(X[:,0] - X[:,1]), \n",
    "                  np.abs(X[:,0] + X[:,1])]).T\n",
    "    return Z\n",
    "\n",
    "Z_train = phi(X_train)\n",
    "\n",
    "# Fit the data\n",
    "Z = Z_train\n",
    "\n",
    "Z_dagger = np.dot(np.linalg.inv(np.dot(Z.T, Z)), Z.T)\n",
    "w_tilde = np.dot(Z_dagger, y_train)\n",
    "\n",
    "def predict(X):\n",
    "    Z = phi(X)\n",
    "    return np.sign(Z @ w_tilde)\n",
    "\n",
    "# Tính E_in, E_out\n",
    "E_in = np.mean(predict(X_train) != y_train)\n",
    "print(\"E_in =\", E_in)\n",
    "\n",
    "E_out = np.mean(predict(X_test) != y_test)\n",
    "print(\"E_out =\", E_out)"
   ]
  },
  {
   "cell_type": "markdown",
   "metadata": {
    "deletable": false,
    "nbgrader": {
     "cell_type": "markdown",
     "checksum": "47d4e2bb3e4812ef7b37e032a898cfec",
     "grade": true,
     "grade_id": "c2",
     "locked": false,
     "points": 1,
     "schema_version": 3,
     "solution": true,
     "task": false
    }
   },
   "source": [
    "Vậy em chọn đáp án [a] 0.03, 0.08"
   ]
  },
  {
   "cell_type": "markdown",
   "metadata": {},
   "source": [
    "## Câu 3 (1 điểm)"
   ]
  },
  {
   "cell_type": "code",
   "execution_count": 2,
   "metadata": {},
   "outputs": [
    {
     "name": "stdout",
     "output_type": "stream",
     "text": [
      "k = -5\n",
      "E_in = 0.02857142857142857\n",
      "E_out = 0.084\n",
      "\n",
      "\n",
      "k = -4\n",
      "E_in = 0.02857142857142857\n",
      "E_out = 0.084\n",
      "\n",
      "\n",
      "k = -3\n",
      "E_in = 0.02857142857142857\n",
      "E_out = 0.08\n",
      "\n",
      "\n",
      "k = -2\n",
      "E_in = 0.02857142857142857\n",
      "E_out = 0.084\n",
      "\n",
      "\n",
      "k = -1\n",
      "E_in = 0.02857142857142857\n",
      "E_out = 0.056\n",
      "\n",
      "\n",
      "k = 0\n",
      "E_in = 0.0\n",
      "E_out = 0.092\n",
      "\n",
      "\n",
      "k = 1\n",
      "E_in = 0.05714285714285714\n",
      "E_out = 0.124\n",
      "\n",
      "\n",
      "k = 2\n",
      "E_in = 0.2\n",
      "E_out = 0.228\n",
      "\n",
      "\n",
      "k = 3\n",
      "E_in = 0.37142857142857144\n",
      "E_out = 0.436\n",
      "\n",
      "\n",
      "k = 4\n",
      "E_in = 0.42857142857142855\n",
      "E_out = 0.452\n",
      "\n",
      "\n"
     ]
    }
   ],
   "source": [
    "Z_train = phi(X_train)\n",
    "\n",
    "for k in range(-5, 5):\n",
    "    # Fit the data\n",
    "    Z = Z_train\n",
    "    \n",
    "    Z_dagger_reg = np.dot(np.linalg.inv(np.dot(Z.T, Z) + 10**k * np.identity(Z.shape[1])), Z.T)\n",
    "    w_tilde_reg = np.dot(Z_dagger_reg, y_train)\n",
    "    def predict(X):\n",
    "        Z = phi(X)\n",
    "        return np.sign(Z @ w_tilde_reg)\n",
    "    print(\"k =\", k)\n",
    "    E_in = np.mean(predict(X_train) != y_train)\n",
    "    print(\"E_in =\", E_in)\n",
    "    E_out = np.mean(predict(X_test) != y_test)\n",
    "    print(\"E_out =\", E_out)\n",
    "    print('\\n')"
   ]
  },
  {
   "cell_type": "markdown",
   "metadata": {
    "deletable": false,
    "nbgrader": {
     "cell_type": "markdown",
     "checksum": "0997a909d9ab1f250c2bfd0645fee970",
     "grade": true,
     "grade_id": "c3",
     "locked": false,
     "points": 1,
     "schema_version": 3,
     "solution": true,
     "task": false
    }
   },
   "source": [
    "Với $k=-3$, $E_{in} \\approx 0.03, E_{out} = 0.08$.  \n",
    "Vậy em chọn đáp án [d] 0.03, 0.08"
   ]
  },
  {
   "cell_type": "markdown",
   "metadata": {},
   "source": [
    "## Câu 4 (1 điểm)"
   ]
  },
  {
   "cell_type": "markdown",
   "metadata": {
    "deletable": false,
    "nbgrader": {
     "cell_type": "markdown",
     "checksum": "efabab5c4035a6864ac8cb3e0061c6f0",
     "grade": true,
     "grade_id": "c4",
     "locked": false,
     "points": 1,
     "schema_version": 3,
     "solution": true,
     "task": false
    }
   },
   "source": [
    "Với $k=3$, $E_{in} \\approx 0.4, E_{out} \\approx 0.4$.  \n",
    "Vậy em chọn đáp án [e] 0.4, 0.4"
   ]
  },
  {
   "cell_type": "markdown",
   "metadata": {},
   "source": [
    "## Câu 5 (1 điểm)"
   ]
  },
  {
   "cell_type": "markdown",
   "metadata": {
    "deletable": false,
    "nbgrader": {
     "cell_type": "markdown",
     "checksum": "0b484b8390bec96142e8a1213ee8cd2c",
     "grade": true,
     "grade_id": "c5",
     "locked": false,
     "points": 1,
     "schema_version": 3,
     "solution": true,
     "task": false
    }
   },
   "source": [
    "Theo như trên, $E_{out}$ nhỏ nhất khi $k=-1$.\n",
    "Vậy em chọn đáp án [d] -1"
   ]
  },
  {
   "cell_type": "markdown",
   "metadata": {},
   "source": [
    "## Câu 6 (1 điểm)"
   ]
  },
  {
   "cell_type": "markdown",
   "metadata": {
    "deletable": false,
    "nbgrader": {
     "cell_type": "markdown",
     "checksum": "26f542221236fb24d0ddbee584eed7d0",
     "grade": true,
     "grade_id": "c6",
     "locked": false,
     "points": 1,
     "schema_version": 3,
     "solution": true,
     "task": false
    }
   },
   "source": [
    "$min E_{out} = 0.056 \\approx 0.06$.\n",
    "Vậy em chọn đáp án [b] 0.06"
   ]
  },
  {
   "cell_type": "markdown",
   "metadata": {},
   "source": [
    "## Câu 7 (1 điểm)"
   ]
  },
  {
   "cell_type": "markdown",
   "metadata": {},
   "source": [
    "Theo đề bài, $\\mathcal {H}(Q,C,Q_0)$ nghĩa là ta gán tất cả các hệ số $w_q$ với $q \\geq Q_0$ thành $C$.  \n",
    "Khi đó, $\\mathcal {H}(10,0,Q_0)$ nghĩa là ta gán tất cả các hệ số $w_q$ với $q \\geq Q_0$ thành $0$. \n",
    "Cụ thể, $\\mathcal {H}(10,0,3)$ sẽ bao gồm tất cả các đa thức bậc hai và $\\mathcal {H}(10,0,4)$ sẽ gồm các đa thức bậc ba. Khi đó giao của hai tập này sẽ là $\\mathcal {H}_2$."
   ]
  },
  {
   "cell_type": "markdown",
   "metadata": {
    "deletable": false,
    "nbgrader": {
     "cell_type": "markdown",
     "checksum": "322a244b0fae3a20ec568a5099aaaec1",
     "grade": true,
     "grade_id": "c7",
     "locked": false,
     "points": 1,
     "schema_version": 3,
     "solution": true,
     "task": false
    }
   },
   "source": [
    "Vậy em chọn đáp án [c]"
   ]
  },
  {
   "cell_type": "markdown",
   "metadata": {},
   "source": [
    "## Câu 8 (1 điểm)"
   ]
  },
  {
   "cell_type": "markdown",
   "metadata": {},
   "source": [
    "Một lần backpropagation với một mẫu dữ liệu $(\\mathbf{x}, y)$ mà đề bài hỏi gồm các bước:\n",
    "1. Bắt đầu từ véc-tơ input $\\mathbf{x}$, thực hiện lan truyền tiến qua các tầng của mạng để tính ra các giá trị đầu ra $a$ của các nơ-ron. Lưu ý: ở đây mình dùng ký hiệu $a^{(l)}_i$ để chỉ giá trị đầu ra của nơ-ron $i$ ở tầng $l$, còn trong đề bài là dùng ký hiệu $x^{(l)}_i$. Số phép tính $w^{(l)}_{ij}a^{(l-1)}_i$ ở bước lan truyền tiến này là: $3 \\times 6 + 1 \\times 4 = 22$\n",
    "2. Từ $\\delta$ ở tầng cuối, thực hiện lan truyền ngược để tính $\\delta$ của các nơ-ron ở các tầng trước đó.Ta sẽ không cần tính $\\delta$ của các nơ-ron output cũng như của nơ-ron bias ở lớp 1 .Số phép tính $w^{(l)}_{ij}\\delta^{(l)}_j$ ở bước này sẽ là: 3\n",
    "3. Với mỗi trọng số $w^{(l)}_{ij}$, tính $\\frac{\\partial e}{\\partial w^{(l)}_{ij}}$ bằng cách lấy $a$ ở một đầu (nơ-ron $i$ ở tầng $l-1$) nhân với $\\delta$ ở đầu kia (nơ-ron $j$ ở tầng $l$). Số phép tính $a^{(l-1)}_i\\delta^{(l)}_j$ ở bước nàylà: $3 \\times 6 + 1 \\times 4 = 22$    \n",
    "Vậy tổng số phép tính phải thực hiện là $22+3+22=47$, gần với đáp án [d] 45."
   ]
  },
  {
   "cell_type": "markdown",
   "metadata": {
    "deletable": false,
    "nbgrader": {
     "cell_type": "markdown",
     "checksum": "d81773f072cd15e4a27b6cd240a5d990",
     "grade": true,
     "grade_id": "c8",
     "locked": false,
     "points": 1,
     "schema_version": 3,
     "solution": true,
     "task": false
    }
   },
   "source": [
    "Vậy em chọn đáp án [d] 45"
   ]
  },
  {
   "cell_type": "markdown",
   "metadata": {},
   "source": [
    "## Câu 9 (1 điểm)"
   ]
  },
  {
   "cell_type": "markdown",
   "metadata": {},
   "source": [
    "Với một mạng NNs gồm 10 input units, 1 output unit, 36 hidden units, số trọng số (hay số cạnh) tối thiểu đạt được khi mạng có kiến trúc gồm 18 hidden layers, mỗi hidden layer gồm 1 unit thường và 1 bias unit:  \n",
    "$d = [9, 1, 1, 1, 1, 1, 1, 1, 1, 1, 1, 1, 1, 1, 1, 1, 1, 1, 1, 1]$, với $d^{(l)}$ là số lượng units ở tầng $l$ mà chưa tính bias unit.  \n",
    "Khi đó tổng số cạnh của mạng là: $10 \\times 1 + 17 \\times 2 + 2 \\times 1 = 46$"
   ]
  },
  {
   "cell_type": "markdown",
   "metadata": {
    "deletable": false,
    "nbgrader": {
     "cell_type": "markdown",
     "checksum": "e814a2db0b8a53e4fddfee4bcbf405fc",
     "grade": true,
     "grade_id": "c9",
     "locked": false,
     "points": 1,
     "schema_version": 3,
     "solution": true,
     "task": false
    }
   },
   "source": [
    "Vậy em chọn đáp án [a] 46"
   ]
  },
  {
   "cell_type": "markdown",
   "metadata": {},
   "source": [
    "## Câu 10 (1 điểm)"
   ]
  },
  {
   "cell_type": "markdown",
   "metadata": {},
   "source": [
    "Với một mạng NNs gồm 10 input units, 1 output unit, 36 hidden units, số trọng số (hay số cạnh) tối thiểu đạt được khi mạng có kiến trúc gồm 2 hidden layers, layer 1 gồm 22 units, layer 2 gồm 14 units (bao gồm cả bias unit):  \n",
    "$d = [9, 21, 13, 1]$, với $d^{(l)}$ là số lượng units ở tầng $l$ mà chưa tính bias unit.  \n",
    "Khi đó tổng số cạnh của mạng là: $10 \\times 21 + 22 \\times 13 + 14 \\times 1 = 510$"
   ]
  },
  {
   "cell_type": "markdown",
   "metadata": {
    "deletable": false,
    "nbgrader": {
     "cell_type": "markdown",
     "checksum": "41cbf5c6d2b94eeae0a712be2181fef6",
     "grade": true,
     "grade_id": "c10",
     "locked": false,
     "points": 1,
     "schema_version": 3,
     "solution": true,
     "task": false
    }
   },
   "source": [
    "Vậy em chọn đáp án [e] 510"
   ]
  }
 ],
 "metadata": {
  "kernelspec": {
   "display_name": "Python 3",
   "language": "python",
   "name": "python3"
  },
  "language_info": {
   "codemirror_mode": {
    "name": "ipython",
    "version": 3
   },
   "file_extension": ".py",
   "mimetype": "text/x-python",
   "name": "python",
   "nbconvert_exporter": "python",
   "pygments_lexer": "ipython3",
   "version": "3.6.9"
  },
  "toc": {
   "base_numbering": 1,
   "nav_menu": {},
   "number_sections": true,
   "sideBar": true,
   "skip_h1_title": false,
   "title_cell": "Table of Contents",
   "title_sidebar": "Contents",
   "toc_cell": false,
   "toc_position": {},
   "toc_section_display": true,
   "toc_window_display": false
  },
  "varInspector": {
   "cols": {
    "lenName": 16,
    "lenType": 16,
    "lenVar": 40
   },
   "kernels_config": {
    "python": {
     "delete_cmd_postfix": "",
     "delete_cmd_prefix": "del ",
     "library": "var_list.py",
     "varRefreshCmd": "print(var_dic_list())"
    },
    "r": {
     "delete_cmd_postfix": ") ",
     "delete_cmd_prefix": "rm(",
     "library": "var_list.r",
     "varRefreshCmd": "cat(var_dic_list()) "
    }
   },
   "types_to_exclude": [
    "module",
    "function",
    "builtin_function_or_method",
    "instance",
    "_Feature"
   ],
   "window_display": false
  }
 },
 "nbformat": 4,
 "nbformat_minor": 4
}
