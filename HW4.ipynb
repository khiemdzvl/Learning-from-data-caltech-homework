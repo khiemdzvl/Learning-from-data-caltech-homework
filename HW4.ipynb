{
 "cells": [
  {
   "cell_type": "markdown",
   "metadata": {},
   "source": [
    "# Bài tập 4\n",
    "\n",
    "---\n",
    "Mục tiêu chính ở đây là <font color=green>học, học một cách chân thật</font>; nếu bạn được 5 điểm nhưng bạn làm bài một cách chân thật thì vẫn tốt hơn nhiều so với 10 điểm mà không chân thật. Bạn có thể thảo luận với các bạn khác (nên tận dụng moodle), nhưng <font color=green>bài làm và code phải là của chính bạn, dựa trên sự hiểu của chính bạn</font>. <font color=red>Nếu vi phạm thì bạn sẽ bị 0 điểm cho toàn bộ môn học</font>.\n",
    "\n",
    "Một số lời khuyên khác:\n",
    "- Nên bắt đầu làm sớm, đừng đợi đến gần deadline.\n",
    "- Nên in các file bài tập của Caltech ra (trong môn học, mình sẽ làm 6 bài tập đầu tiên).\n",
    "- Làm từ từ, cẩn thận. Chậm là nhanh, nhanh là chậm.\n",
    "- Tránh xa các nguồn gây nhiễu; ví dụ, facebook ;-)."
   ]
  },
  {
   "cell_type": "markdown",
   "metadata": {},
   "source": [
    "---"
   ]
  },
  {
   "cell_type": "markdown",
   "metadata": {},
   "source": [
    "## Đề bài "
   ]
  },
  {
   "cell_type": "markdown",
   "metadata": {},
   "source": [
    "Bạn download file bài tập \"Homework 4\" (gồm 10 câu hỏi trắc nghiệm) và file đáp án \"Solution key 4\" :-) [ở đây](http://work.caltech.edu/homeworks.html). Với mỗi câu, bạn cần giải thích <font color=blue>tại sao bạn lại chọn đáp án này</font> (không được dùng phương pháp loại trừ). Với những câu mà phải code, bạn cố gắng viết code rõ ràng, dễ đọc (đặt tên biến gợi nhớ, comment những chỗ cần comment). File đáp án ở đây đóng vai trò \"correct output\", giúp bạn biết được là mình đã làm đúng hay chưa, để \"điều chỉnh lại bộ trọng số\". <font color=blue>Bạn nên tự mình làm trước rồi sau đó mới check file đáp án; như vậy sẽ tốt hơn cho việc học của bạn</font>.\n",
    "\n",
    "Bạn sẽ làm bài trên file notebook \"HW4-Submission.ipynb\" mà mình đã cung cấp sẵn. Đầu tiên, bạn điền MSSV và họ tên vào đầu file. Với mỗi câu, mình đã để sẵn một markdown cell mà có ghi là \"YOUR ANSWER HERE\" để bạn làm (khi làm thì bạn có thể xóa dòng \"YOUR ANSWER HERE\" đi). Với mỗi câu, đầu tiên bạn sẽ trình bày các giải thích, và cuối cùng thì chốt lại là bạn chọn đáp án nào (ví dụ, bạn có thể ghi là \"Do đó, em chọn đáp án [d] abcxyz\"). Với mỗi câu, nếu cần thì bạn có thể chèn thêm các cell (code/markdown) ở <font color=blue>ngay trên</font> (không chèn dưới) cell \"YOUR ANSWER HERE\". Ví dụ:\n",
    "\n",
    "Câu 1 (1 điểm)\n",
    "- Cell bạn tự chèn\n",
    "- ...\n",
    "- Cell bạn tự chèn\n",
    "- Cell \"YOUR ANSWER HERE\" (ở cell này ít nhất là có dòng chốt về đáp án bạn chọn)\n",
    "\n",
    "Mình qui định như trên là vì khi chấm bài mình sẽ dùng một chương trình để hỗ trợ quá trình duyệt qua các bài, để có thể chấm nhanh hơn. Mặc dù bạn thấy cell \"YOUR ANSWER HERE\" không có gì đặc biệt, nhưng thật ra là cell này có những thông tin ẩn bên dưới để chương trình hỗ trợ chấm của mình có thể sử dụng. Do đó, <font color=red>bạn lưu ý tuân thủ đúng qui định của mình</font>.\n",
    "\n",
    "**Nộp bài:**\n",
    "\n",
    "Khi chấm bài, đầu tiên mình sẽ chọn \"Kernel\" - \"Restart & Run All\" để restart và chạy tất cả các cell trong notebook của bạn; do đó, trước khi nộp bài, bạn nên chạy thử \"Kernel\" - \"Restart & Run All\" để đảm bảo mọi chuyện diễn ra đúng như mong đợi.\n",
    "\n",
    "Nếu không có vấn đề gì thì bạn tạo thư mục nộp bài theo cấu trúc sau:\n",
    "- Thư mục MSSV (ví dụ, nếu MSSV của bạn là 1234567 thì bạn đặt tên thư mục là 1234567):\n",
    "    - File \"HW4-Submission.ipynb\"\n",
    "\n",
    "Sau đó, bạn nén thư mục MSSV lại và nộp ở link trên moodle. Đuôi của file nén phải là .zip (chứ không được .rar hay gì khác).\n",
    "\n",
    "Một lần nữa, <font color=red>bạn lưu ý tuân thủ chính xác qui định nộp bài này để chương trình hỗ trợ chấm của mình có thể chạy được</font>."
   ]
  },
  {
   "cell_type": "markdown",
   "metadata": {},
   "source": [
    "---"
   ]
  },
  {
   "cell_type": "markdown",
   "metadata": {},
   "source": [
    "## Hướng dẫn "
   ]
  },
  {
   "cell_type": "markdown",
   "metadata": {},
   "source": [
    "Bạn nên tự làm trước, rồi sau đó mới xem hướng dẫn; mình nghĩ như vậy là tốt nhất cho việc học của bạn. Một câu thì có thể có nhiều cách giải, bạn không nhất thiết là phải làm theo cách mà mình hướng dẫn.\n",
    "\n",
    "Không phải tất cả các câu đều sẽ có hướng dẫn (phần hướng dẫn chủ yếu tập trung vào các câu liên quan đến lập trình). Nếu vẫn có thắc mắc gì khác thì bạn có thể post lên moodle."
   ]
  },
  {
   "cell_type": "markdown",
   "metadata": {
    "colab_type": "text",
    "id": "oW_s4MDqLPFA"
   },
   "source": [
    "### Câu 1-3: Generalization Error\n",
    "**Câu 1:** \n",
    "\n",
    "- Theo đề bài, với $N > d_{VC}$ thì $m_\\mathcal{H}(N) \\approx N^{d_{VC}}$. \n",
    "Còn khi $N \\leq d_{VC}$ thì  $m_\\mathcal{H}(N) = ?$ (đã học trên lớp)\n",
    "\n",
    "- \"95% confidence\" nghĩa là $\\delta = 0.05$; \"your generalization error is at most 0.05\" nghĩa là $\\epsilon = 0.05$.\n",
    "\n",
    "- Tìm $N$ bằng cách giải phương trình: $\\epsilon = \\sqrt{\\frac{8}{N} ln \\frac{4m_\\mathcal{H}(2N)}{\\delta} } $.\n",
    "\n",
    "**Câu 2, 3:** \n",
    "- Với câu a và b, bạn có thể dễ dàng tính được chặn trên của $\\epsilon$ theo $d_{VC}, N, \\delta$.\n",
    "- Ở câu c và d, $\\epsilon$ xuất hiện ở cả vế trái và vế phải. Một cách để tính chặn trên của $\\epsilon$ là bình phương hai vế, sắp xếp lại và giải bất phương trình bậc 2 theo $\\epsilon$. "
   ]
  },
  {
   "cell_type": "markdown",
   "metadata": {
    "colab_type": "text",
    "id": "acgx1r6gLPFB"
   },
   "source": [
    "### Câu 4-7: Bias and Variance \n",
    "<font color=blue>Tính $\\bar{g}(\\mathbf{x})$</font> \n",
    "\n",
    "Theo công thức lý thuyết đã học: $\\bar{g}(\\mathbf{x})=\\mathbb{E}_\\mathcal{D}\\left[g^{(\\mathcal{D})}(\\mathbf{x})\\right]$ với $\\mathcal{D}$ là một tập dữ liệu có kích thước $N$ (ở bài này $N=2$).\n",
    "\n",
    "Để tính (một cách xấp xỉ) kỳ vọng trong công thức trên bằng code, ta có thể phát sinh ra *nhiều* tập dữ liệu $\\mathcal{D}$ khác nhau, với mỗi $\\mathcal{D}$ sẽ học được một $g^{(\\mathcal{D})}$, rồi lấy trung bình các $g^{(\\mathcal{D})}$ này lại sẽ ra được $\\bar{g}$. Với tập hypothesis có dạng $h(x) = ax$ ở câu 4-6 (hay các tập hypothesis khác ở câu 7) thì việc tính trung bình các $g^{(\\mathcal{D})}$ tương đương với việc tính trung bình các trọng số (hay còn gọi là tham số) của các $g^{(\\mathcal{D})}$: kết quả là $\\bar{g}(x)=\\bar{a}x$ với $\\bar{a}$ được tính bằng cách lấy trung bình các $a$ của các $g^{(\\mathcal{D})}$.\n",
    "\n",
    "Ta có thể code nhanh chóng hàm phát sinh ngẫu nhiên một tập dữ liệu $\\mathcal{D}$ có kích thước $N$ ($x$ được phát sinh ngẫu nhiên theo phân bố đều trong đoạn [-1, 1], $y=sin(\\pi x)$):"
   ]
  },
  {
   "cell_type": "code",
   "execution_count": 4,
   "metadata": {},
   "outputs": [],
   "source": [
    "import numpy as np\n",
    "\n",
    "def generate_dataset(N):\n",
    "    X = np.random.uniform(-1, 1, (N, 1))\n",
    "    Y = np.sin(np.pi * X)\n",
    "    return X, Y"
   ]
  },
  {
   "cell_type": "markdown",
   "metadata": {},
   "source": [
    "Chạy thử hàm `generate_dataset`:"
   ]
  },
  {
   "cell_type": "code",
   "execution_count": 5,
   "metadata": {},
   "outputs": [
    {
     "name": "stdout",
     "output_type": "stream",
     "text": [
      "[[-0.66492804]\n",
      " [-0.41907497]]\n",
      "[[-0.8687435 ]\n",
      " [-0.96785637]]\n"
     ]
    }
   ],
   "source": [
    "X, Y = generate_dataset(2)\n",
    "print(X)\n",
    "print(Y)"
   ]
  },
  {
   "cell_type": "code",
   "execution_count": 6,
   "metadata": {},
   "outputs": [
    {
     "data": {
      "text/plain": [
       "[<matplotlib.lines.Line2D at 0x7f01d4301b50>]"
      ]
     },
     "execution_count": 6,
     "metadata": {},
     "output_type": "execute_result"
    },
    {
     "data": {
      "image/png": "[encoded data removed]",
      "text/plain": [
       "<Figure size 576x396 with 1 Axes>"
      ]
     },
     "metadata": {},
     "output_type": "display_data"
    }
   ],
   "source": [
    "# Trực quan hóa hàm f và 2 điểm dữ liệu được phát sinh ở trên\n",
    "%matplotlib inline\n",
    "import matplotlib.pyplot as plt\n",
    "plt.style.use(\"seaborn\")\n",
    "\n",
    "xx = np.arange(-1, 1, 0.01).reshape(-1, 1)\n",
    "yy = np.sin(np.pi * xx)\n",
    "plt.plot(xx, yy, color=\"black\")\n",
    "plt.plot(X, Y, \"o\", color=\"blue\")"
   ]
  },
  {
   "cell_type": "markdown",
   "metadata": {
    "colab_type": "text",
    "id": "acgx1r6gLPFB"
   },
   "source": [
    "<font color=blue>Tính $g^{(\\mathcal{D})}$</font>\n",
    "\n",
    "Cho một tập dữ liệu huấn luyện $\\mathcal{D}$ cụ thể và một tập hypothesis $\\mathcal{H}$ cụ thể (ví dụ, ở câu 4-6 thì $\\mathcal{H}$ gồm các hypothesis có dạng $h(x)=ax$, ở câu 7 thì còn có thêm 4 tập $\\mathcal{H}$ khác). Hỏi $g^{(\\mathcal{D})}(x)=?$ (ví dụ, với tập $\\mathcal{H}$ có dạng $h(x)=ax$ thì ta muốn tìm giá trị của $a$)\n",
    "\n",
    "Một cách bạn có thể nghĩ tới là: viết độ lỗi bình phương trung bình trên tập huấn luyện $\\mathcal{D}$ rồi tìm giá trị của các trọng-số/tham-số để độ lỗi này đạt cực tiểu. Và bạn sẽ phải xét riêng cho từng tập $\\mathcal{H}$.\n",
    "\n",
    "Mình thấy cách làm trên khá tốn thời gian (nếu bạn làm thì cũng sẽ được chấp nhận). Một cách khác mà mình thấy đơn giản hơn là dùng hàm tìm $\\mathbf{w}$ (hàm huấn luyện) của Linear Regression mà bạn đã cài đặt ở bài tập 2 (1-2 dòng code); *cùng một hàm này có dùng được dùng để tìm $\\mathbf{w}$ (trong bài này là $a$, $b$) của tất cả các tập $\\mathcal{H}$ ở câu 4-7* :-). Điểm mấu chốt là bạn phải gọi hàm này với ma trận input $\\mathbf{X}$ phù hợp, ví dụ:\n",
    "- Với tập $\\mathcal{H}$ có dạng $h(x)=b$: tìm $b$ bằng cách gọi hàm huấn luyện Linear Regression với ma trận input $\\mathbf{X}$ truyền vào là ma trận $N$ dòng và 1 cột, trong đó các phần tử đều bằng 1.\n",
    "- Với tập $\\mathcal{H}$ có dạng $h(x)=ax$: tìm $a$ bằng cách gọi hàm huấn luyện Linear Regression với ma trận input $\\mathbf{X}$ truyền vào là ma trận $N$ dòng và 1 cột, trong đó mỗi dòng ứng với một $x$ (là một con số) của tập huấn luyện $\\mathcal{D}$.\n",
    "- Với tập $\\mathcal{H}$ có dạng $h(x)=ax+b$: tìm $a$ và $b$ bằng cách gọi hàm huấn luyện Linear Regression với ma trận input $\\mathbf{X}$ truyền vào là ma trận $N$ dòng và 2 cột, trong đó mỗi dòng ứng với một véc-tơ input gồm 2 phần tử là $1$ và $x$ (là một con số) của tập huấn luyện $\\mathcal{D}$.\n",
    "\n",
    "Bạn có thể tìm được $a$, $b$ của 2 tập $\\mathcal{H}$ còn lại trong câu 7 không? Gợi ý: nonlinear transformation."
   ]
  },
  {
   "cell_type": "markdown",
   "metadata": {
    "colab_type": "text",
    "id": "acgx1r6gLPFB"
   },
   "source": [
    "<font color=blue>Tính bias và variance</font>\n",
    "\n",
    "Ở câu 5 và 6, bạn phải tính bias và variance cho tập $\\mathcal{H}$ có dạng $h(x)=ax$. Ở câu 7, bạn phải tính giá trị kỳ vọng của $E_{out}$ cho từng $\\mathcal{H}$; để làm điều này thì bạn phải tính bias và variance cho từng $\\mathcal{H}$.\n",
    "\n",
    "Theo công thức lý thuyết đã học:\n",
    "$$bias = \\mathbb{E}_\\mathbf{x}\\left[(\\bar{g}(\\mathbf{x}) - f(\\mathbf{x}))^2\\right]$$\n",
    "\n",
    "$$var =  \\mathbb{E}_\\mathbf{x}\\left[\\mathbb{E}_\\mathcal{D}\\left[(g^{(\\mathcal{D})}(\\mathbf{x}) - \\bar{g}(\\mathbf{x}))^2\\right]\\right]$$\n",
    "Sau khi đã có được rất nhiều $g^{(\\mathcal{D})}$ và một $\\bar{g}$, bạn có thể dễ dàng tính được bias và variance theo công thức ở trên. Tương tự như khi tính $\\bar{g}$ ở trên, cách tính kỳ vọng theo một biến ngẫu nhiên bằng code là phát sinh ra *nhiều* giá trị của biến ngẫu nhiên và tính giá trị trung bình của đại lượng đang xét trên tập các giá trị này."
   ]
  },
  {
   "cell_type": "markdown",
   "metadata": {
    "colab_type": "text",
    "id": "Q5d40TxPLPFQ"
   },
   "source": [
    "### Câu 8-10: VC Dimension\n",
    "\n",
    "**Câu 8:** \n",
    "\n",
    "Nhắc lại: $d_{VC}$ (VC dimension) của một tập hypothesis $\\mathcal{H}$ là một con số thể hiện cho độ phức tạp của tập $\\mathcal{H}$. Cụ thể, $d_{VC}$ là giá trị $N$ lớn nhất mà ở đó growth function $m_\\mathcal{H}(N)$ chưa bị break, nghĩa là $m_\\mathcal{H}(N)$ vẫn đạt được giá trị tối đa là $2^N$.\n",
    "\n",
    "Theo đề bài:\n",
    "- $m_\\mathcal{H}(1)=2$.\n",
    "- $m_\\mathcal{H}(N+1) = 2m_\\mathcal{H}(N) - \\binom{N}{q}$ với $q$ là một số nguyên cố định $\\ge1$. Để dễ nhìn hơn, ta có thể viết lại công thức này như sau: $m_\\mathcal{H}(N) = 2m_\\mathcal{H}(N-1) - \\binom{N-1}{q}$.\n",
    "\n",
    "Bây giờ, thử tăng $N$ dần lên ($N = 1, 2, 3, ...$). Khi nào thì $m_\\mathcal{H}(N)$ sẽ bị break?\n",
    "\n",
    "**Câu 9, 10:** \n",
    "\n",
    "Câu 9 khá dễ, bạn có thể tự làm được.\n",
    "\n",
    "Câu 10 tìm chặn dưới khá dễ, bạn có thể tự làm được. Tìm chặn trên thì không dễ lắm nhưng bạn thử suy nghĩ xem thế nào (nếu bạn suy nghĩ không ra chỗ này thì cũng không phải là vấn đề lớn)."
   ]
  }
 ],
 "metadata": {
  "kernelspec": {
   "display_name": "Python 3",
   "language": "python",
   "name": "python3"
  },
  "language_info": {
   "codemirror_mode": {
    "name": "ipython",
    "version": 3
   },
   "file_extension": ".py",
   "mimetype": "text/x-python",
   "name": "python",
   "nbconvert_exporter": "python",
   "pygments_lexer": "ipython3",
   "version": "3.6.9"
  },
  "toc": {
   "base_numbering": 1,
   "nav_menu": {},
   "number_sections": false,
   "sideBar": true,
   "skip_h1_title": false,
   "title_cell": "Table of Contents",
   "title_sidebar": "Contents",
   "toc_cell": false,
   "toc_position": {
    "height": "calc(100% - 180px)",
    "left": "10px",
    "top": "150px",
    "width": "165px"
   },
   "toc_section_display": true,
   "toc_window_display": true
  }
 },
 "nbformat": 4,
 "nbformat_minor": 4
}
