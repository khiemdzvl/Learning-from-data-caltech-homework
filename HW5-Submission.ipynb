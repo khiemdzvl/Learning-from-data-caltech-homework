{
 "cells": [
  {
   "cell_type": "markdown",
   "metadata": {},
   "source": [
    "# Bài tập 5\n",
    "\n",
    "Nguyễn Trọng Khiêm - 1712529"
   ]
  },
  {
   "cell_type": "markdown",
   "metadata": {},
   "source": [
    "## Câu 1 (1 điểm)"
   ]
  },
  {
   "cell_type": "markdown",
   "metadata": {},
   "source": [
    "Xét đẳng thức đề cho:  \n",
    "$$\\mathbb{E}_{\\mathcal{D}}[E_{in}(\\mathbf{w}_{lin})] = \\sigma^2\\left(1 - \\frac{d+1}{N}\\right)$$  \n",
    "Đặt $VT = A$, ta được:  \n",
    "\\begin{eqnarray*}\n",
    "A & = & \\sigma^2\\left(1 - \\frac{d+1}{N}\\right)\\\\ \n",
    " \\frac{A}{\\sigma^2} & = & 1 - \\frac{d+1}{N}\\\\\n",
    "\\frac{d+1}{N} & = & 1 - \\frac{A}{\\sigma^2}\\\\\n",
    " N & = & \\frac{d+1}{1 - \\frac{A}{\\sigma^2}}\n",
    "\\end{eqnarray*}\n",
    "Mà đề bài cho $\\sigma=0.1, d=8$, và hỏi cần $N$ nhỏ nhất là bao nhiêu để $E_{in} > 0.008$. Do đó, ta suy ra:  \n",
    "$$ N > \\frac{d+1}{1 - \\frac{A}{\\sigma^2}} = \\frac{9}{1 - \\frac{0.008}{0.1^2}}$$ \n",
    "$$\\Rightarrow N > 45$$  \n",
    "Do đó N cần tìm phải nhỏ nhất và đồng thời phải lớn hơn 45, nên đáp án sẽ là 100."
   ]
  },
  {
   "cell_type": "markdown",
   "metadata": {
    "deletable": false,
    "nbgrader": {
     "cell_type": "markdown",
     "checksum": "2e83d862b3c5fd4fb57d72c50e8115f8",
     "grade": true,
     "grade_id": "c1",
     "locked": false,
     "points": 1,
     "schema_version": 3,
     "solution": true,
     "task": false
    }
   },
   "source": [
    "Vậy em chọn đáp án [c] 100."
   ]
  },
  {
   "cell_type": "markdown",
   "metadata": {},
   "source": [
    "## Câu 2 (1 điểm)"
   ]
  },
  {
   "cell_type": "markdown",
   "metadata": {},
   "source": [
    "Ta có: $h(\\mathbf{x}) = sign(\\tilde{w}_0 + \\tilde{w}_1 x_1^2 + \\tilde{w}_2 x_2^2)$  \n",
    "Khi $x_1$ siêu âm hoặc siêu dương thì $x_1^2$ sẽ dương và rất lớn, và  $\\tilde{w}_1 x_1^2$ sẽ là đại lượng quyết định dấu của tổng trong công thức ở trên. Do $x_1^2$ dương nên $\\tilde{w}_1$ sẽ quyết định dấu của $\\tilde{w}_1 x_1^2$. Mà khi $x_1$ siêu dương, với $x_2$ có giá trị tuyệt đối nhỏ (không cần biết âm hay dương), $h(x)$ cho giá trị âm, do đó bắt buộc $\\tilde{w}_1$ phải mang giá trị âm, hay  $\\tilde{w}_1 < 0$.  \n",
    "Tương tự, khi $x_2$ siêu âm hoặc siêu dương, $h(x)$ đều cho giá trị dương, nên bắt buộc $\\tilde{w}_2$ phải mang giá trị dương, hay  $\\tilde{w}_2 > 0$."
   ]
  },
  {
   "cell_type": "markdown",
   "metadata": {
    "deletable": false,
    "nbgrader": {
     "cell_type": "markdown",
     "checksum": "47d4e2bb3e4812ef7b37e032a898cfec",
     "grade": true,
     "grade_id": "c2",
     "locked": false,
     "points": 1,
     "schema_version": 3,
     "solution": true,
     "task": false
    }
   },
   "source": [
    "Vậy em chọn đáp án [d]."
   ]
  },
  {
   "cell_type": "markdown",
   "metadata": {},
   "source": [
    "## Câu 3 (1 điểm)"
   ]
  },
  {
   "cell_type": "markdown",
   "metadata": {},
   "source": [
    "Xét mô hình tuyến tính,ban đầu ta có $d_{VC} = d+1 = 2 + 1 =3$ (2D perceptron).  \n",
    "Tuy nhiên, sau khi biến đổi sang không gian $\\Phi_4$, $d_{VC} \\leq \\tilde{d} +1 = 14 + 1 =15$.  \n",
    "Do đó giá trị nhỏ nhất không nhỏ hơn $d_{VC}$ là 15."
   ]
  },
  {
   "cell_type": "markdown",
   "metadata": {
    "deletable": false,
    "nbgrader": {
     "cell_type": "markdown",
     "checksum": "0997a909d9ab1f250c2bfd0645fee970",
     "grade": true,
     "grade_id": "c3",
     "locked": false,
     "points": 1,
     "schema_version": 3,
     "solution": true,
     "task": false
    }
   },
   "source": [
    "Vậy em chọn đáp án [c] 15."
   ]
  },
  {
   "cell_type": "markdown",
   "metadata": {},
   "source": [
    "## Câu 4 (1 điểm)"
   ]
  },
  {
   "cell_type": "markdown",
   "metadata": {},
   "source": [
    "$$\\frac{\\partial E}{\\partial u} = 2(e^v + 2ve^{-u}) (ue^v - 2ve^{-u})$$\n",
    "$$\\frac{\\partial E}{\\partial v} = 2(ue^v - 2e^{-u})(ue^v - 2ve^{-u})$$"
   ]
  },
  {
   "cell_type": "markdown",
   "metadata": {
    "deletable": false,
    "nbgrader": {
     "cell_type": "markdown",
     "checksum": "efabab5c4035a6864ac8cb3e0061c6f0",
     "grade": true,
     "grade_id": "c4",
     "locked": false,
     "points": 1,
     "schema_version": 3,
     "solution": true,
     "task": false
    }
   },
   "source": [
    "Vậy em chọn đáp án [e]."
   ]
  },
  {
   "cell_type": "markdown",
   "metadata": {},
   "source": [
    "## Câu 5 (1 điểm)"
   ]
  },
  {
   "cell_type": "code",
   "execution_count": 1,
   "metadata": {},
   "outputs": [
    {
     "name": "stdout",
     "output_type": "stream",
     "text": [
      "Final (u, v) = [0.04473629 0.02395871]\n",
      "Final err: 1.2086833944220747e-15\n",
      "Số vòng lặp: 10\n"
     ]
    }
   ],
   "source": [
    "# Cau 5 + 6\n",
    "import numpy as np\n",
    "\n",
    "\n",
    "def E(x):\n",
    "    \"\"\"\n",
    "    E(u, v) = (u*e^v - 2v*e^(-u))^2\n",
    "    \"\"\"\n",
    "    u = x[0]\n",
    "    v = x[1]\n",
    "    return (u*np.exp(v) - 2*v*np.exp(-u))**2\n",
    "\n",
    "def gradE(x):\n",
    "    \"\"\"\n",
    "    Hàm tính đạo hàm riêng của E(u, v) theo u và v theo công thức ở câu 4.\n",
    "    \"\"\"\n",
    "    u = x[0]\n",
    "    v = x[1]\n",
    "    return np.array([\n",
    "        2*(u*np.exp(v) - 2*v*np.exp(-u))*(np.exp(v) + 2*v*np.exp(-u)),\n",
    "        2*(u*np.exp(v) - 2*v*np.exp(-u))*(u*np.exp(v) - 2*np.exp(-u))\n",
    "    ])\n",
    "\n",
    "def gradient_descent(E, gradE, x0, threshold, l_rate):\n",
    "    x = x0.copy()\n",
    "    n_iters = 0\n",
    "    err = E(x)\n",
    "    us = [x[0]]\n",
    "    vs = [x[1]]\n",
    "    while err > threshold:\n",
    "        grad = gradE(x)\n",
    "        x = x - l_rate*grad\n",
    "        us.append(x[0])\n",
    "        vs.append(x[1])\n",
    "        err = E(x)\n",
    "        n_iters += 1\n",
    "        if n_iters > 100:\n",
    "            print(\"Không hội tụ!!!\")\n",
    "            return\n",
    "    return (x, err, n_iters, us, vs)\n",
    "    \n",
    "    \n",
    "x0 = np.array([1, 1])\n",
    "threshold = 10e-14\n",
    "l_rate = 0.1\n",
    "final_uv, err, n_iters, us, vs = gradient_descent(E, gradE, x0, threshold, l_rate)\n",
    "print(\"Final (u, v) =\", final_uv)\n",
    "print(\"Final err:\", err)\n",
    "print(\"Số vòng lặp:\", n_iters)"
   ]
  },
  {
   "cell_type": "markdown",
   "metadata": {
    "deletable": false,
    "nbgrader": {
     "cell_type": "markdown",
     "checksum": "0b484b8390bec96142e8a1213ee8cd2c",
     "grade": true,
     "grade_id": "c5",
     "locked": false,
     "points": 1,
     "schema_version": 3,
     "solution": true,
     "task": false
    }
   },
   "source": [
    "Vậy em chọn đáp án [d]."
   ]
  },
  {
   "cell_type": "markdown",
   "metadata": {},
   "source": [
    "## Câu 6 (1 điểm)"
   ]
  },
  {
   "cell_type": "markdown",
   "metadata": {
    "deletable": false,
    "nbgrader": {
     "cell_type": "markdown",
     "checksum": "26f542221236fb24d0ddbee584eed7d0",
     "grade": true,
     "grade_id": "c6",
     "locked": false,
     "points": 1,
     "schema_version": 3,
     "solution": true,
     "task": false
    }
   },
   "source": [
    "Kết quả (u,v) = (0.04473629 0.02395871) gần với (0.045, 0.024).  \n",
    "Vậy em chọn đáp án [e]."
   ]
  },
  {
   "cell_type": "markdown",
   "metadata": {},
   "source": [
    "## Câu 7 (1 điểm)"
   ]
  },
  {
   "cell_type": "code",
   "execution_count": 2,
   "metadata": {},
   "outputs": [
    {
     "name": "stdout",
     "output_type": "stream",
     "text": [
      "Final (u, v): 6.29707589930517 -2.852306954077811\n",
      "Final err: 0.13981379199615315\n"
     ]
    }
   ],
   "source": [
    "def E(u, v):\n",
    "    return (u*np.exp(v) - 2*v*np.exp(-u))**2\n",
    "\n",
    "def dE_du(u, v):\n",
    "    return 2*(u*np.exp(v) - 2*v*np.exp(-u))*(np.exp(v) + 2*v*np.exp(-u))\n",
    "\n",
    "def dE_dv(u, v):\n",
    "    return 2*(u*np.exp(v) - 2*v*np.exp(-u))*(u*np.exp(v) - 2*np.exp(-u))\n",
    "\n",
    "def coordinate_descent(E, dE_du, dE_dv, u0, v0, threshold, l_rate):\n",
    "    u, v = u0, v0\n",
    "    us = [u]\n",
    "    vs = [v]\n",
    "    for it in range(15):\n",
    "        # step1 move only along the u coordinate\n",
    "        u = u - l_rate*dE_du(u, v)\n",
    "        us.append(u)\n",
    "        vs.append(v)\n",
    "        # step2 move only along the v coordinate\n",
    "        v = v - l_rate*dE_dv(u, v)\n",
    "        us.append(u)\n",
    "        vs.append(v)\n",
    "    return u, v, E(u, v), us, vs\n",
    "\n",
    "\n",
    "u0 = 1.0\n",
    "v0 = 1.0\n",
    "threshold = 10e-14\n",
    "l_rate = 0.1\n",
    "final_u, final_v, err, us, vs = coordinate_descent(E, dE_du, dE_dv, u0, v0, threshold, l_rate)\n",
    "print(\"Final (u, v):\", final_u, final_v)\n",
    "print(\"Final err:\", err)"
   ]
  },
  {
   "cell_type": "markdown",
   "metadata": {
    "deletable": false,
    "nbgrader": {
     "cell_type": "markdown",
     "checksum": "322a244b0fae3a20ec568a5099aaaec1",
     "grade": true,
     "grade_id": "c7",
     "locked": false,
     "points": 1,
     "schema_version": 3,
     "solution": true,
     "task": false
    }
   },
   "source": [
    "Kết quả nằm trong khoảng 0.10  \n",
    "vậy em chọn đáp án [a]."
   ]
  },
  {
   "cell_type": "markdown",
   "metadata": {},
   "source": [
    "## Câu 8 (1 điểm)"
   ]
  },
  {
   "cell_type": "code",
   "execution_count": 3,
   "metadata": {},
   "outputs": [
    {
     "name": "stdout",
     "output_type": "stream",
     "text": [
      "Average Epochs:  332.54545454545456\n",
      "Average Error:  0.10036756190560842\n"
     ]
    }
   ],
   "source": [
    "def random_point():\n",
    "    return 2*np.random.rand()-1, 2*np.random.rand()-1\n",
    "\n",
    "def random_line():\n",
    "    x0, y0 = random_point()\n",
    "    x1, y1 = random_point()\n",
    "    a = (y1 - y0)/(x1 - x0)\n",
    "    b = y1 - a*x1\n",
    "    return b, a\n",
    "\n",
    "def generate_dataset(N, b, a):\n",
    "    X = 2*np.random.rand(N, 3)-1\n",
    "    X[:,0] = 1\n",
    "    y = np.sign(b + a*X[:,1] - X[:,2])\n",
    "    return X, y\n",
    "\n",
    "    return 1 / (1 + np.exp(-x))\n",
    "\n",
    "class LogisticModel:\n",
    "    \n",
    "    def fit(self, X, y):\n",
    "        eta = 0.01\n",
    "        N = X.shape[0]\n",
    "        w = np.zeros(X.shape[1])\n",
    "        prev_w = np.ones(X.shape[1])\n",
    "        epoch = 0\n",
    "        \n",
    "        while True:\n",
    "            prev_w = w\n",
    "            for n in np.random.permutation(N):\n",
    "                n = np.random.randint(0, N)\n",
    "                gradE = -y[n]*X[n,:] / (1 + np.exp(y[n] * w.dot(X[n,:])))\n",
    "                w = w - eta * gradE\n",
    "\n",
    "            epoch += 1\n",
    "            if np.linalg.norm(w - prev_w) < 0.01:\n",
    "                self.w = w\n",
    "                break\n",
    "                \n",
    "        return epoch\n",
    "            \n",
    "    \n",
    "    def predict(self, X):\n",
    "        return np.sign(X @ self.w)\n",
    "    \n",
    "    def cross_entropy_error(self, X, y):\n",
    "        N = X.shape[0]\n",
    "        errs = []\n",
    "        for n in range(N):\n",
    "            errs.append(np.log(1 + np.exp(-y[n] * self.w.dot(X[n,:]))))\n",
    "        return np.mean(errs)\n",
    "    \n",
    "num_epochs = np.array([])\n",
    "cross_entropy_errors = np.array([])\n",
    "        \n",
    "for experiment in range(1, 100):\n",
    "    b, a = random_line()\n",
    "    X, y = generate_dataset(100, b, a)\n",
    "    log_model = LogisticModel()\n",
    "    epochs = log_model.fit(X, y)\n",
    "\n",
    "    X_test, y_test = generate_dataset(2000, b, a)\n",
    "    y_predicted = log_model.predict(X_test)\n",
    "\n",
    "    err = log_model.cross_entropy_error(X_test, y_test)\n",
    "    num_epochs = np.concatenate((num_epochs, [epochs])) \n",
    "    cross_entropy_errors = np.concatenate((cross_entropy_errors, [err]))\n",
    "    \n",
    "print(\"Average Epochs: \", np.average(num_epochs))\n",
    "print(\"Average Error: \", np.average(cross_entropy_errors))"
   ]
  },
  {
   "cell_type": "markdown",
   "metadata": {
    "deletable": false,
    "nbgrader": {
     "cell_type": "markdown",
     "checksum": "d81773f072cd15e4a27b6cd240a5d990",
     "grade": true,
     "grade_id": "c8",
     "locked": false,
     "points": 1,
     "schema_version": 3,
     "solution": true,
     "task": false
    }
   },
   "source": [
    "Vậy em chọn đáp án [d]."
   ]
  },
  {
   "cell_type": "markdown",
   "metadata": {},
   "source": [
    "## Câu 9 (1 điểm)"
   ]
  },
  {
   "cell_type": "markdown",
   "metadata": {
    "deletable": false,
    "nbgrader": {
     "cell_type": "markdown",
     "checksum": "e814a2db0b8a53e4fddfee4bcbf405fc",
     "grade": true,
     "grade_id": "c9",
     "locked": false,
     "points": 1,
     "schema_version": 3,
     "solution": true,
     "task": false
    }
   },
   "source": [
    "Khoảng 330 epochs.  \n",
    "Vậy em chọn đáp án [a]."
   ]
  },
  {
   "cell_type": "markdown",
   "metadata": {},
   "source": [
    "## Câu 10 (1 điểm)"
   ]
  },
  {
   "cell_type": "markdown",
   "metadata": {},
   "source": [
    "- PLA: \n",
    "    - Với mẫu $\\left(\\mathbf{x}^{(n)}, y^{(n)}\\right)$ được phân lớp đúng thì $\\mathbf{w}$ không thay đổi.\n",
    "    - Với mẫu $\\left(\\mathbf{x}^{(n)}, y^{(n)}\\right)$ bị phân lớp sai thì cập nhật: $\\mathbf{w} \\leftarrow \\mathbf{w} + y\\mathbf{x}$.\n",
    "\n",
    "- SGD: với mỗi mẫu $\\left(\\mathbf{x}^{(n)}, y^{(n)}\\right)$ thì đều cập nhật $\\mathbf{w} \\leftarrow \\mathbf{w} - \\eta \\nabla e(\\mathbf{w})$.  \n",
    "Để đơn giản, ta xét với $\\eta=1$.  \n",
    "Giả sử kết quả đúng là $e(\\mathbf{w}) = -y\\mathbf{w}^T\\mathbf{x}$.  \n",
    "Khi đó, gradient sẽ là: $\\nabla e = -y\\mathbf{x}$.  \n",
    "Thay vào công thức cập nhật SGD, ta được: $$\\mathbf{w} \\leftarrow \\mathbf{w} + y\\mathbf{x}$$  \n",
    "Kết quả đã giống với PLA. Tuy nhiên, nó chỉ đúng với những điểm phân lớp sai, vì PLA chỉ cập nhật như vậy với điểm phân lớp sai. Còn ở đây, SGD áp dụng cập nhật cho mọi điểm.  \n",
    "Để có thể cập nhật đúng cho các điểm đã phân lớp đúng, ta sẽ chọn:  \n",
    "$$e(\\mathbf{w}) = - min(0, y \\mathbf{w}^T \\mathbf{x})$$  \n",
    "vì với các điểm đã phân lớp đúng, giá trị của $y \\mathbf{w}^T \\mathbf{x}$ là dương, khi đó:\n",
    "$$e(\\mathbf{w}) = - min(0, y \\mathbf{w}^T \\mathbf{x}) = 0$$  \n",
    "Điều này có nghĩa là với những điểm đã phân lớp đúng gradient $\\nabla e = \\nabla 0 = 0$, hay những điểm phân lớp đúng sẽ không đóng góp vào quá trình cập nhật $\\mathbf{w}$.  \n",
    "Vậy kết quả cần tìm là:\n",
    "$$e(\\mathbf{w}) = - min(0, y \\mathbf{w}^T \\mathbf{x})$$  "
   ]
  },
  {
   "cell_type": "markdown",
   "metadata": {
    "deletable": false,
    "nbgrader": {
     "cell_type": "markdown",
     "checksum": "41cbf5c6d2b94eeae0a712be2181fef6",
     "grade": true,
     "grade_id": "c10",
     "locked": false,
     "points": 1,
     "schema_version": 3,
     "solution": true,
     "task": false
    }
   },
   "source": [
    "Vậy em chọn đáp án [e]."
   ]
  }
 ],
 "metadata": {
  "kernelspec": {
   "display_name": "Python 3",
   "language": "python",
   "name": "python3"
  },
  "language_info": {
   "codemirror_mode": {
    "name": "ipython",
    "version": 3
   },
   "file_extension": ".py",
   "mimetype": "text/x-python",
   "name": "python",
   "nbconvert_exporter": "python",
   "pygments_lexer": "ipython3",
   "version": "3.6.9"
  },
  "toc": {
   "base_numbering": 1,
   "nav_menu": {},
   "number_sections": true,
   "sideBar": true,
   "skip_h1_title": false,
   "title_cell": "Table of Contents",
   "title_sidebar": "Contents",
   "toc_cell": false,
   "toc_position": {},
   "toc_section_display": true,
   "toc_window_display": false
  },
  "varInspector": {
   "cols": {
    "lenName": 16,
    "lenType": 16,
    "lenVar": 40
   },
   "kernels_config": {
    "python": {
     "delete_cmd_postfix": "",
     "delete_cmd_prefix": "del ",
     "library": "var_list.py",
     "varRefreshCmd": "print(var_dic_list())"
    },
    "r": {
     "delete_cmd_postfix": ") ",
     "delete_cmd_prefix": "rm(",
     "library": "var_list.r",
     "varRefreshCmd": "cat(var_dic_list()) "
    }
   },
   "types_to_exclude": [
    "module",
    "function",
    "builtin_function_or_method",
    "instance",
    "_Feature"
   ],
   "window_display": false
  }
 },
 "nbformat": 4,
 "nbformat_minor": 4
}
